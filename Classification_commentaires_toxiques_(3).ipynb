{
  "cells": [
    {
      "cell_type": "markdown",
      "metadata": {
        "id": "_lyJzHuKRNWX"
      },
      "source": [
        "# Importation des packages"
      ]
    },
    {
      "cell_type": "code",
      "execution_count": 1,
      "metadata": {
        "id": "MUj96QiIQsJ_"
      },
      "outputs": [],
      "source": [
        "import numpy as np\n",
        "import pandas as pd\n",
        "import matplotlib.pyplot as plt\n",
        "import matplotlib.cm as cm\n",
        "import tensorflow as tf\n",
        "import seaborn as sns\n",
        "import pickle"
      ]
    },
    {
      "cell_type": "markdown",
      "metadata": {
        "id": "xZLpUMItRWc0"
      },
      "source": [
        "# Importation des données"
      ]
    },
    {
      "cell_type": "markdown",
      "metadata": {
        "id": "cbE3MzVKRaV2"
      },
      "source": [
        "Ajoutez un raccourci de ce dossier à votre google drive :\n",
        "\n",
        "https://drive.google.com/drive/folders/1mx-CAzT10YKrmxHfYDP_1Oef7PVGUr7s?usp=sharing"
      ]
    },
    {
      "cell_type": "code",
      "execution_count": 2,
      "metadata": {
        "colab": {
          "base_uri": "https://localhost:8080/"
        },
        "id": "4FktfCVaRVrs",
        "outputId": "d34b03b0-d999-4b75-c7f7-c7c01a42be55"
      },
      "outputs": [
        {
          "output_type": "stream",
          "name": "stdout",
          "text": [
            "Mounted at /content/drive\n"
          ]
        }
      ],
      "source": [
        "#Ce code permet de faire fonctionner tout le fichier dans VSCode et dans Google Collab sans avoir besoin de changer le code\n",
        "def check_and_mount_drive():\n",
        "    error = False\n",
        "    try:\n",
        "        from google.colab import drive\n",
        "        drive.mount('/content/drive', force_remount=True)\n",
        "    except Exception as e:\n",
        "        error = True\n",
        "    return error\n",
        "\n",
        "error_detected = check_and_mount_drive()\n"
      ]
    },
    {
      "cell_type": "markdown",
      "source": [
        "# Importation des bibliothèque"
      ],
      "metadata": {
        "id": "5YsdDqf0ARWg"
      }
    },
    {
      "cell_type": "code",
      "execution_count": 3,
      "metadata": {
        "id": "xbn5j1Bm_ysZ"
      },
      "outputs": [],
      "source": [
        "from time import time\n",
        "\n",
        "# Import Regex to clean up tweets\n",
        "import re\n",
        "\n",
        "import nltk, string\n",
        "from nltk.corpus import stopwords\n",
        "from nltk.tokenize import TweetTokenizer\n",
        "\n",
        "# Get Reviews\n",
        "import requests\n",
        "import json\n",
        "\n",
        "# Get Tweets\n",
        "import httplib2\n",
        "import requests\n",
        "import urllib3\n",
        "#from drive.MyDrive.RNN_sentiment_dataset.random_tweets import *\n",
        "\n",
        "# TF IDF Imports\n",
        "from sklearn.feature_extraction.text import TfidfVectorizer\n",
        "from sklearn.model_selection import GridSearchCV, train_test_split\n",
        "from scipy.sparse import csc_matrix\n",
        "from sklearn.metrics import classification_report, confusion_matrix, accuracy_score\n",
        "from joblib import dump, load\n",
        "\n",
        "# CNN Imports\n",
        "from tensorflow.keras.layers import Conv1D, MaxPooling1D, Embedding, GlobalMaxPooling1D, Dense, Dropout, Flatten, Bidirectional, LSTM, BatchNormalization\n",
        "from tensorflow.keras.models import Sequential\n",
        "from tensorflow.keras.optimizers import Adam\n",
        "from tensorflow.keras.preprocessing.text import Tokenizer\n",
        "from tensorflow.keras.preprocessing.sequence import pad_sequences\n",
        "import random\n"
      ]
    },
    {
      "cell_type": "code",
      "execution_count": 4,
      "metadata": {
        "colab": {
          "base_uri": "https://localhost:8080/",
          "height": 224
        },
        "id": "qky64Lq8Rocy",
        "outputId": "58ed36ba-81e8-4875-f9e7-ddab639ab385"
      },
      "outputs": [
        {
          "output_type": "stream",
          "name": "stdout",
          "text": [
            "600965\n"
          ]
        },
        {
          "output_type": "execute_result",
          "data": {
            "text/plain": [
              "                      id                                       comment_text  \\\n",
              "61635   a4f973688b7ddf52  Have you had a chance to talk to Dan yet? \\n\\n...   \n",
              "70230   bbe45f1faa608911  \"\\nAgreed. Considering your response, I unders...   \n",
              "156986  d69ca809e8c9b6cb       Seems a reasonable request reasonable to me.   \n",
              "6852    124b1d7e68057f21  \"\\nGiven the recent talk page comment I think ...   \n",
              "12916   2236737a61b52b0c                     The Transporter \\n\\nNice work.   \n",
              "\n",
              "        toxic  severe_toxic  obscene  threat  insult  identity_hate  \n",
              "61635       0             0        0       0       0              0  \n",
              "70230       0             0        0       0       0              0  \n",
              "156986      0             0        0       0       0              0  \n",
              "6852        0             0        0       0       0              0  \n",
              "12916       0             0        0       0       0              0  "
            ],
            "text/html": [
              "\n",
              "  <div id=\"df-45e1b2a5-a9f2-4c30-aae4-b26a1e880c0b\" class=\"colab-df-container\">\n",
              "    <div>\n",
              "<style scoped>\n",
              "    .dataframe tbody tr th:only-of-type {\n",
              "        vertical-align: middle;\n",
              "    }\n",
              "\n",
              "    .dataframe tbody tr th {\n",
              "        vertical-align: top;\n",
              "    }\n",
              "\n",
              "    .dataframe thead th {\n",
              "        text-align: right;\n",
              "    }\n",
              "</style>\n",
              "<table border=\"1\" class=\"dataframe\">\n",
              "  <thead>\n",
              "    <tr style=\"text-align: right;\">\n",
              "      <th></th>\n",
              "      <th>id</th>\n",
              "      <th>comment_text</th>\n",
              "      <th>toxic</th>\n",
              "      <th>severe_toxic</th>\n",
              "      <th>obscene</th>\n",
              "      <th>threat</th>\n",
              "      <th>insult</th>\n",
              "      <th>identity_hate</th>\n",
              "    </tr>\n",
              "  </thead>\n",
              "  <tbody>\n",
              "    <tr>\n",
              "      <th>61635</th>\n",
              "      <td>a4f973688b7ddf52</td>\n",
              "      <td>Have you had a chance to talk to Dan yet? \\n\\n...</td>\n",
              "      <td>0</td>\n",
              "      <td>0</td>\n",
              "      <td>0</td>\n",
              "      <td>0</td>\n",
              "      <td>0</td>\n",
              "      <td>0</td>\n",
              "    </tr>\n",
              "    <tr>\n",
              "      <th>70230</th>\n",
              "      <td>bbe45f1faa608911</td>\n",
              "      <td>\"\\nAgreed. Considering your response, I unders...</td>\n",
              "      <td>0</td>\n",
              "      <td>0</td>\n",
              "      <td>0</td>\n",
              "      <td>0</td>\n",
              "      <td>0</td>\n",
              "      <td>0</td>\n",
              "    </tr>\n",
              "    <tr>\n",
              "      <th>156986</th>\n",
              "      <td>d69ca809e8c9b6cb</td>\n",
              "      <td>Seems a reasonable request reasonable to me.</td>\n",
              "      <td>0</td>\n",
              "      <td>0</td>\n",
              "      <td>0</td>\n",
              "      <td>0</td>\n",
              "      <td>0</td>\n",
              "      <td>0</td>\n",
              "    </tr>\n",
              "    <tr>\n",
              "      <th>6852</th>\n",
              "      <td>124b1d7e68057f21</td>\n",
              "      <td>\"\\nGiven the recent talk page comment I think ...</td>\n",
              "      <td>0</td>\n",
              "      <td>0</td>\n",
              "      <td>0</td>\n",
              "      <td>0</td>\n",
              "      <td>0</td>\n",
              "      <td>0</td>\n",
              "    </tr>\n",
              "    <tr>\n",
              "      <th>12916</th>\n",
              "      <td>2236737a61b52b0c</td>\n",
              "      <td>The Transporter \\n\\nNice work.</td>\n",
              "      <td>0</td>\n",
              "      <td>0</td>\n",
              "      <td>0</td>\n",
              "      <td>0</td>\n",
              "      <td>0</td>\n",
              "      <td>0</td>\n",
              "    </tr>\n",
              "  </tbody>\n",
              "</table>\n",
              "</div>\n",
              "    <div class=\"colab-df-buttons\">\n",
              "\n",
              "  <div class=\"colab-df-container\">\n",
              "    <button class=\"colab-df-convert\" onclick=\"convertToInteractive('df-45e1b2a5-a9f2-4c30-aae4-b26a1e880c0b')\"\n",
              "            title=\"Convert this dataframe to an interactive table.\"\n",
              "            style=\"display:none;\">\n",
              "\n",
              "  <svg xmlns=\"http://www.w3.org/2000/svg\" height=\"24px\" viewBox=\"0 -960 960 960\">\n",
              "    <path d=\"M120-120v-720h720v720H120Zm60-500h600v-160H180v160Zm220 220h160v-160H400v160Zm0 220h160v-160H400v160ZM180-400h160v-160H180v160Zm440 0h160v-160H620v160ZM180-180h160v-160H180v160Zm440 0h160v-160H620v160Z\"/>\n",
              "  </svg>\n",
              "    </button>\n",
              "\n",
              "  <style>\n",
              "    .colab-df-container {\n",
              "      display:flex;\n",
              "      gap: 12px;\n",
              "    }\n",
              "\n",
              "    .colab-df-convert {\n",
              "      background-color: #E8F0FE;\n",
              "      border: none;\n",
              "      border-radius: 50%;\n",
              "      cursor: pointer;\n",
              "      display: none;\n",
              "      fill: #1967D2;\n",
              "      height: 32px;\n",
              "      padding: 0 0 0 0;\n",
              "      width: 32px;\n",
              "    }\n",
              "\n",
              "    .colab-df-convert:hover {\n",
              "      background-color: #E2EBFA;\n",
              "      box-shadow: 0px 1px 2px rgba(60, 64, 67, 0.3), 0px 1px 3px 1px rgba(60, 64, 67, 0.15);\n",
              "      fill: #174EA6;\n",
              "    }\n",
              "\n",
              "    .colab-df-buttons div {\n",
              "      margin-bottom: 4px;\n",
              "    }\n",
              "\n",
              "    [theme=dark] .colab-df-convert {\n",
              "      background-color: #3B4455;\n",
              "      fill: #D2E3FC;\n",
              "    }\n",
              "\n",
              "    [theme=dark] .colab-df-convert:hover {\n",
              "      background-color: #434B5C;\n",
              "      box-shadow: 0px 1px 3px 1px rgba(0, 0, 0, 0.15);\n",
              "      filter: drop-shadow(0px 1px 2px rgba(0, 0, 0, 0.3));\n",
              "      fill: #FFFFFF;\n",
              "    }\n",
              "  </style>\n",
              "\n",
              "    <script>\n",
              "      const buttonEl =\n",
              "        document.querySelector('#df-45e1b2a5-a9f2-4c30-aae4-b26a1e880c0b button.colab-df-convert');\n",
              "      buttonEl.style.display =\n",
              "        google.colab.kernel.accessAllowed ? 'block' : 'none';\n",
              "\n",
              "      async function convertToInteractive(key) {\n",
              "        const element = document.querySelector('#df-45e1b2a5-a9f2-4c30-aae4-b26a1e880c0b');\n",
              "        const dataTable =\n",
              "          await google.colab.kernel.invokeFunction('convertToInteractive',\n",
              "                                                    [key], {});\n",
              "        if (!dataTable) return;\n",
              "\n",
              "        const docLinkHtml = 'Like what you see? Visit the ' +\n",
              "          '<a target=\"_blank\" href=https://colab.research.google.com/notebooks/data_table.ipynb>data table notebook</a>'\n",
              "          + ' to learn more about interactive tables.';\n",
              "        element.innerHTML = '';\n",
              "        dataTable['output_type'] = 'display_data';\n",
              "        await google.colab.output.renderOutput(dataTable, element);\n",
              "        const docLink = document.createElement('div');\n",
              "        docLink.innerHTML = docLinkHtml;\n",
              "        element.appendChild(docLink);\n",
              "      }\n",
              "    </script>\n",
              "  </div>\n",
              "\n",
              "\n",
              "<div id=\"df-fd31a797-4012-46b6-800d-d73458cf6133\">\n",
              "  <button class=\"colab-df-quickchart\" onclick=\"quickchart('df-fd31a797-4012-46b6-800d-d73458cf6133')\"\n",
              "            title=\"Suggest charts\"\n",
              "            style=\"display:none;\">\n",
              "\n",
              "<svg xmlns=\"http://www.w3.org/2000/svg\" height=\"24px\"viewBox=\"0 0 24 24\"\n",
              "     width=\"24px\">\n",
              "    <g>\n",
              "        <path d=\"M19 3H5c-1.1 0-2 .9-2 2v14c0 1.1.9 2 2 2h14c1.1 0 2-.9 2-2V5c0-1.1-.9-2-2-2zM9 17H7v-7h2v7zm4 0h-2V7h2v10zm4 0h-2v-4h2v4z\"/>\n",
              "    </g>\n",
              "</svg>\n",
              "  </button>\n",
              "\n",
              "<style>\n",
              "  .colab-df-quickchart {\n",
              "      --bg-color: #E8F0FE;\n",
              "      --fill-color: #1967D2;\n",
              "      --hover-bg-color: #E2EBFA;\n",
              "      --hover-fill-color: #174EA6;\n",
              "      --disabled-fill-color: #AAA;\n",
              "      --disabled-bg-color: #DDD;\n",
              "  }\n",
              "\n",
              "  [theme=dark] .colab-df-quickchart {\n",
              "      --bg-color: #3B4455;\n",
              "      --fill-color: #D2E3FC;\n",
              "      --hover-bg-color: #434B5C;\n",
              "      --hover-fill-color: #FFFFFF;\n",
              "      --disabled-bg-color: #3B4455;\n",
              "      --disabled-fill-color: #666;\n",
              "  }\n",
              "\n",
              "  .colab-df-quickchart {\n",
              "    background-color: var(--bg-color);\n",
              "    border: none;\n",
              "    border-radius: 50%;\n",
              "    cursor: pointer;\n",
              "    display: none;\n",
              "    fill: var(--fill-color);\n",
              "    height: 32px;\n",
              "    padding: 0;\n",
              "    width: 32px;\n",
              "  }\n",
              "\n",
              "  .colab-df-quickchart:hover {\n",
              "    background-color: var(--hover-bg-color);\n",
              "    box-shadow: 0 1px 2px rgba(60, 64, 67, 0.3), 0 1px 3px 1px rgba(60, 64, 67, 0.15);\n",
              "    fill: var(--button-hover-fill-color);\n",
              "  }\n",
              "\n",
              "  .colab-df-quickchart-complete:disabled,\n",
              "  .colab-df-quickchart-complete:disabled:hover {\n",
              "    background-color: var(--disabled-bg-color);\n",
              "    fill: var(--disabled-fill-color);\n",
              "    box-shadow: none;\n",
              "  }\n",
              "\n",
              "  .colab-df-spinner {\n",
              "    border: 2px solid var(--fill-color);\n",
              "    border-color: transparent;\n",
              "    border-bottom-color: var(--fill-color);\n",
              "    animation:\n",
              "      spin 1s steps(1) infinite;\n",
              "  }\n",
              "\n",
              "  @keyframes spin {\n",
              "    0% {\n",
              "      border-color: transparent;\n",
              "      border-bottom-color: var(--fill-color);\n",
              "      border-left-color: var(--fill-color);\n",
              "    }\n",
              "    20% {\n",
              "      border-color: transparent;\n",
              "      border-left-color: var(--fill-color);\n",
              "      border-top-color: var(--fill-color);\n",
              "    }\n",
              "    30% {\n",
              "      border-color: transparent;\n",
              "      border-left-color: var(--fill-color);\n",
              "      border-top-color: var(--fill-color);\n",
              "      border-right-color: var(--fill-color);\n",
              "    }\n",
              "    40% {\n",
              "      border-color: transparent;\n",
              "      border-right-color: var(--fill-color);\n",
              "      border-top-color: var(--fill-color);\n",
              "    }\n",
              "    60% {\n",
              "      border-color: transparent;\n",
              "      border-right-color: var(--fill-color);\n",
              "    }\n",
              "    80% {\n",
              "      border-color: transparent;\n",
              "      border-right-color: var(--fill-color);\n",
              "      border-bottom-color: var(--fill-color);\n",
              "    }\n",
              "    90% {\n",
              "      border-color: transparent;\n",
              "      border-bottom-color: var(--fill-color);\n",
              "    }\n",
              "  }\n",
              "</style>\n",
              "\n",
              "  <script>\n",
              "    async function quickchart(key) {\n",
              "      const quickchartButtonEl =\n",
              "        document.querySelector('#' + key + ' button');\n",
              "      quickchartButtonEl.disabled = true;  // To prevent multiple clicks.\n",
              "      quickchartButtonEl.classList.add('colab-df-spinner');\n",
              "      try {\n",
              "        const charts = await google.colab.kernel.invokeFunction(\n",
              "            'suggestCharts', [key], {});\n",
              "      } catch (error) {\n",
              "        console.error('Error during call to suggestCharts:', error);\n",
              "      }\n",
              "      quickchartButtonEl.classList.remove('colab-df-spinner');\n",
              "      quickchartButtonEl.classList.add('colab-df-quickchart-complete');\n",
              "    }\n",
              "    (() => {\n",
              "      let quickchartButtonEl =\n",
              "        document.querySelector('#df-fd31a797-4012-46b6-800d-d73458cf6133 button');\n",
              "      quickchartButtonEl.style.display =\n",
              "        google.colab.kernel.accessAllowed ? 'block' : 'none';\n",
              "    })();\n",
              "  </script>\n",
              "</div>\n",
              "\n",
              "    </div>\n",
              "  </div>\n"
            ],
            "application/vnd.google.colaboratory.intrinsic+json": {
              "type": "dataframe",
              "variable_name": "data",
              "summary": "{\n  \"name\": \"data\",\n  \"rows\": 50000,\n  \"fields\": [\n    {\n      \"column\": \"id\",\n      \"properties\": {\n        \"dtype\": \"string\",\n        \"num_unique_values\": 50000,\n        \"samples\": [\n          \"da08cffbdb7590c8\",\n          \"ccc177f630337e62\",\n          \"09a18078f340ff62\"\n        ],\n        \"semantic_type\": \"\",\n        \"description\": \"\"\n      }\n    },\n    {\n      \"column\": \"comment_text\",\n      \"properties\": {\n        \"dtype\": \"string\",\n        \"num_unique_values\": 50000,\n        \"samples\": [\n          \"\\\"\\nFrom the MoS:\\\"\\\"Common usage in reliable sources is preferred to technically correct but rarer forms\\\"\\\". By far the main number of references on news.google for 'Macedonia country' reveals \\\"\\\"Macedonia\\\"\\\" as the common term, but we knew that is the common English usage. How Macedonia can be ambiguous in a list of nations is beyond me, apart from the fact that Macedonia happens to be a disamb. page. But being a disambig. page on WP does not imply disambiguity in the real world, or for that sake in this list. The reason the WP article is at \\\"\\\"Rep. of\\\"\\\" is only to disambiguate. Likewise Denmark can refer to loads of different stuff, so why not link to \\\"\\\"Kingdom of Denmark\\\"\\\". The difference? The ad hoc nature of wikipedia. So the question is whether to replicate the ad hoc basis in the list.   \\\"\",\n          \"\\\"\\n\\n Please stop. If you continue to blank out or delete portions of page content, templates or other materials from Wikipedia, you will be blocked from editing.  \\u2192.\\u0418 \\\"\",\n          \"\\\"\\n UFC AFDs \\nThose were never transcluded to the AfD page so there's probably not a lot of point them existing.  I'm a bit pushed for time today, so if you want to remove the AfD banners from the articles, I'll delete the AfD pages when I get the chance.   \\nI haven't been able to spend much time on Wikipedia lately.  Looks like they've been \\\"\\\"officially\\\"\\\" listed as AfDs.  I'll leave them alone for now.    \\n\\n Jake Bostwick \\nI've only nominated a few, very obvious MMA people before.  Bostwick was deleted via AfD discussion.  A speedy delete on grounds of it being deleted before was denied.  To me, he still fails WP:MMANOT, but I'm in no way a MMA expert.  What do you think?   \\nAt first glance it appears that Bostwick hasn't fought at the \\\"\\\"highest level\\\"\\\" of MMA as required by WP:ATHLETE (or whatever the guideline is these days) and WP:MMANOT.  If I had an interest in having the article removed, I would AfD it again.    \\n\\nHello, It has been brought to my attention from an outside source about this discussion. Can I first point out that Jake Bostwick is a former UCMMA middleweight champion and currently the UCMMA welterweight champion? UCMMA is, along with BAMMA and Cage Warriors, the biggest MMA promotion in the United Kingdom. \\n\\nSecondly, after glancing over WP:MMANOT and WP:ATHLETE, I see that they are indeed guidelines. Now I may be cut from a different cloth from you two in terms of how we see what a guideline is but to me, a guideline is optional when it comes to following it, meaning that they cannot be used in AfDs as the sole reason why to delete any article. \\n\\nThirdly, I have spent much time working on the page (as well as being the creator of the page), I have found very strong sources from websites such as The Sun, The Mirror as well as finding information that goes beyond it from being a 'typical' mixed martial artist's Wikipedia page, as it has information about him being on a reality tv show called Party Wars, and being the headline of an article in which he got into issues with the police for his tactics whilst working as a Wheel Clamper only strengthens his notability. The very sources on him alone helps him pass WP:GNG, which is all you need to pass a page on Wikipedia in my opinion.\\n\\nI would welcome constructive ideas about improving the page even more, but to talk about deleting the page without informing me first of this discussion I find is a bit disrespectful towards me, however I fairness to you we haven't exactly known each other for a while, so now I have adding myself to the topic and given the facts of the page's position on Wikipedia, now we can talk to help improve the page even more.   \\n\\n User:Pound4Pound \\n\\nSince you filed the SPI, I wanted to update you that I've reversed the block.  I requested another editor to review the case, and while there are a lot of coincidences, he felt it was borderline enough based on behavior, that the block should be reversed and instead just monitor the situation.  I had some reservations going into the block, but it seemed likely, however, I fully respect the review and would ask we all give the benefit of the doubt in this case.  I completely see why you reported it (I did block, after all), so there is no question as to your faith here.  Just wanted to update you.  - 2\\u00a2  \\u00a9  Join WER \\n\\n Alpha Chi National Honor Society copyright \\n\\nI made changes and enhancements to the Alpha Chi National College Honor Society page including citations to sources. The Director of Operations contacted Wikipedia, granting permission for material from the website to be used by Wikipedia. She received a reply indicating that it was safe to move forward with the edits. Nearly a month later, you removed the edits. Is there something I'm missing here?\\n\\nA copy of the email sent to Wikipedia, and the reply:\\n\\nDear Lara Noah,\\n\\nThank you for your email.  Our response follows your message.\\n\\n08/03/2012 19:19 - Lara\"\n        ],\n        \"semantic_type\": \"\",\n        \"description\": \"\"\n      }\n    },\n    {\n      \"column\": \"toxic\",\n      \"properties\": {\n        \"dtype\": \"number\",\n        \"std\": 0,\n        \"min\": 0,\n        \"max\": 1,\n        \"num_unique_values\": 2,\n        \"samples\": [\n          1,\n          0\n        ],\n        \"semantic_type\": \"\",\n        \"description\": \"\"\n      }\n    },\n    {\n      \"column\": \"severe_toxic\",\n      \"properties\": {\n        \"dtype\": \"number\",\n        \"std\": 0,\n        \"min\": 0,\n        \"max\": 1,\n        \"num_unique_values\": 2,\n        \"samples\": [\n          1,\n          0\n        ],\n        \"semantic_type\": \"\",\n        \"description\": \"\"\n      }\n    },\n    {\n      \"column\": \"obscene\",\n      \"properties\": {\n        \"dtype\": \"number\",\n        \"std\": 0,\n        \"min\": 0,\n        \"max\": 1,\n        \"num_unique_values\": 2,\n        \"samples\": [\n          1,\n          0\n        ],\n        \"semantic_type\": \"\",\n        \"description\": \"\"\n      }\n    },\n    {\n      \"column\": \"threat\",\n      \"properties\": {\n        \"dtype\": \"number\",\n        \"std\": 0,\n        \"min\": 0,\n        \"max\": 1,\n        \"num_unique_values\": 2,\n        \"samples\": [\n          1,\n          0\n        ],\n        \"semantic_type\": \"\",\n        \"description\": \"\"\n      }\n    },\n    {\n      \"column\": \"insult\",\n      \"properties\": {\n        \"dtype\": \"number\",\n        \"std\": 0,\n        \"min\": 0,\n        \"max\": 1,\n        \"num_unique_values\": 2,\n        \"samples\": [\n          1,\n          0\n        ],\n        \"semantic_type\": \"\",\n        \"description\": \"\"\n      }\n    },\n    {\n      \"column\": \"identity_hate\",\n      \"properties\": {\n        \"dtype\": \"number\",\n        \"std\": 0,\n        \"min\": 0,\n        \"max\": 1,\n        \"num_unique_values\": 2,\n        \"samples\": [\n          1,\n          0\n        ],\n        \"semantic_type\": \"\",\n        \"description\": \"\"\n      }\n    }\n  ]\n}"
            }
          },
          "metadata": {},
          "execution_count": 4
        }
      ],
      "source": [
        "if error_detected == True:\n",
        "    file_path = \"C:/Users/titou/OneDrive/Documents/ISEN/4 eme année/NLP/Projet/data_classification_commentaires_toxiques/train.csv\"\n",
        "else:\n",
        "    file_path = \"/content/drive/MyDrive/data_classification_commentaires_toxiques/train.csv\"\n",
        "randomnumber = random.randint(0, 1000000)\n",
        "print (randomnumber) #Prend un nombre aléatoire pour la selection des données\n",
        "data = pd.read_csv(file_path).sample(n=50000, random_state=randomnumber) #On prend 10000 données aléatoires\n",
        "data.head()"
      ]
    },
    {
      "cell_type": "markdown",
      "metadata": {
        "id": "YIzpSrAjSsAM"
      },
      "source": [
        "# Préparation des données"
      ]
    },
    {
      "cell_type": "code",
      "execution_count": 5,
      "metadata": {
        "colab": {
          "base_uri": "https://localhost:8080/"
        },
        "id": "1WMk85t8S_zX",
        "outputId": "6fbd66b8-8af1-4ca7-e25b-db80885c8ed3"
      },
      "outputs": [
        {
          "output_type": "stream",
          "name": "stderr",
          "text": [
            "[nltk_data] Downloading package stopwords to /root/nltk_data...\n",
            "[nltk_data]   Unzipping corpora/stopwords.zip.\n",
            "[nltk_data] Downloading package punkt_tab to /root/nltk_data...\n",
            "[nltk_data]   Unzipping tokenizers/punkt_tab.zip.\n"
          ]
        },
        {
          "output_type": "stream",
          "name": "stdout",
          "text": [
            "Longueur médiane des commentaires : 35\n",
            "[[   15    75 45455    26     7    18    56 45456     2   898    12  2603\n",
            "      2   252    35    70    54    49    53    47    51   115    21     4\n",
            "     69  1688    53   486    32     9   346     6 45457     2 45458]\n",
            " [ 4128   141    52    19    37   492     4     7    73    14     7   133\n",
            "    579     2   104    74  1566     3    85   193    28   304    86    16\n",
            "   2444     4    86    16  1084   470    22     6   440 20928   691]\n",
            " [  196     5  1102   288  1102     2    35     0     0     0     0     0\n",
            "      0     0     0     0     0     0     0     0     0     0     0     0\n",
            "      0     0     0     0     0     0     0     0     0     0     0]\n",
            " [  321     1   468    41    27   205     7    68    58  2048     2 31292\n",
            "   1405     1  2994   696  9707     0     0     0     0     0     0     0\n",
            "      0     0     0     0     0     0     0     0     0     0     0]\n",
            " [    1 45459   471   139     0     0     0     0     0     0     0     0\n",
            "      0     0     0     0     0     0     0     0     0     0     0     0\n",
            "      0     0     0     0     0     0     0     0     0     0     0]]\n",
            "Exemple de texte AVANT nettoyage :\n",
            "Have you had a chance to talk to Dan yet? \n",
            "\n",
            "It seems some administrators are getting abit upset at me not having done enough work on articles latel, but I have been triing to wait for Dan to let me know which one he would like help with, and Im afraid he wont do that until you speek to him...thanks\n",
            "\n",
            "Exemple de texte APRÈS nettoyage :\n",
            "have you had a chance to talk to dan yet it seems some administrators are getting abit upset at me not having done enough work on articles latel but i have been triing to wait for dan to let me know which one he would like help with and im afraid he wont do that until you speek to himthanks\n"
          ]
        }
      ],
      "source": [
        "# Télécharger les stopwords (si ce n'est pas déjà fait)\n",
        "nltk.download('stopwords')\n",
        "nltk.download('punkt_tab')\n",
        "\n",
        "# Fonction améliorée pour nettoyer les commentaires\n",
        "def clean_text(text):\n",
        "    text = text.lower()  # Convertir en minuscules\n",
        "    text = re.sub(r'http\\S+|www.\\S+', '', text)  # Enlever les URLs\n",
        "    text = re.sub(r'@\\w+', '', text)  # Supprimer les mentions (@user)\n",
        "    text = re.sub(r'[^a-z\\s]', '', text)  # Supprimer tout sauf les lettres et espaces\n",
        "    text = re.sub(r'\\s+', ' ', text).strip()  # Supprimer espaces inutiles\n",
        "    return text\n",
        "\n",
        "# Appliquer le nettoyage sur la colonne 'comment_text'\n",
        "data['cleaned_comment_text'] = data['comment_text'].apply(clean_text)\n",
        "\n",
        "# Tokenize the 'cleaned_comment_text' column\n",
        "# This creates the 'tokenized_comment_text' column\n",
        "from nltk.tokenize import word_tokenize\n",
        "data['tokenized_comment_text'] = data['cleaned_comment_text'].apply(word_tokenize)\n",
        "\n",
        "# Supprimer les stopwords\n",
        "stop_words = set(stopwords.words('english'))\n",
        "data['tokenized_comment_text'] = data['tokenized_comment_text'].apply(lambda x: [word for word in x if word not in stop_words])\n",
        "\n",
        "# Convertir le texte en séquences numériques\n",
        "tokenizer = Tokenizer()\n",
        "tokenizer.fit_on_texts(data['cleaned_comment_text'])\n",
        "sequences = tokenizer.texts_to_sequences(data['cleaned_comment_text'])\n",
        "\n",
        "# Calculer la longueur maximale de commentaire pour le padding\n",
        "max_length = int(data['cleaned_comment_text'].apply(lambda x: len(x.split())).median())\n",
        "print(f\"Longueur médiane des commentaires : {max_length}\")\n",
        "\n",
        "# Appliquer le padding sur les séquences pour qu'elles aient toutes la même longueur\n",
        "padded_sequences = pad_sequences(sequences, maxlen=max_length, padding='post')\n",
        "\n",
        "# Afficher les 5 premières séquences pour voir le résultat\n",
        "print(padded_sequences[:5])\n",
        "\n",
        "print(\"Exemple de texte AVANT nettoyage :\")\n",
        "print(data['comment_text'].iloc[0])\n",
        "\n",
        "print(\"\\nExemple de texte APRÈS nettoyage :\")\n",
        "print(data['cleaned_comment_text'].iloc[0])\n"
      ]
    },
    {
      "cell_type": "markdown",
      "metadata": {
        "id": "-kUWzBzISpsK"
      },
      "source": [
        "# Etude du jeu de données"
      ]
    },
    {
      "cell_type": "code",
      "source": [
        "# Affichage des informations de base sur le dataset\n",
        "print(\"Informations de base sur le dataset :\")\n",
        "print(data.info())\n",
        "\n",
        "# Vérification des valeurs manquantes\n",
        "print(\"\\nVérification des valeurs manquantes :\")\n",
        "print(data.isnull().sum())\n",
        "\n",
        "# Supprimer les lignes où le commentaire est devenu vide après nettoyage\n",
        "data = data[data['cleaned_comment_text'].str.strip() != '']\n",
        "print(f\"\\nDonnées après suppression des commentaires vides : {data.shape}\\n\")\n",
        "\n",
        "\n",
        "# Distribution des types de commentaires\n",
        "target_columns = ['toxic', 'severe_toxic', 'obscene', 'threat', 'insult', 'identity_hate']\n",
        "\n",
        "# Liste des couleurs pour chaque type de commentaire\n",
        "colors = ['#00FF00', '#800080', '#FF0000', '#32CD32', '#000000', '#B22222']\n",
        "\n",
        "# Création d'un graphique pour la distribution des types de commentaires avec des couleurs différentes\n",
        "plt.figure(figsize=(10, 6))\n",
        "data[target_columns].sum().sort_values(ascending=False).plot(kind='bar', color=colors)\n",
        "plt.title('Distribution des Types de Commentaires')\n",
        "plt.xlabel('Type de Commentaire')\n",
        "plt.ylabel('Nombre de Commentaires')\n",
        "plt.xticks(rotation=45)\n",
        "plt.tight_layout()\n",
        "plt.show()\n",
        "\n",
        "# Affichage de la distribution des longueurs de commentaires\n",
        "data['comment_length'] = data['comment_text'].apply(len)\n",
        "data['comment_length'].plot(kind='hist', bins=50, figsize=(10, 6), title='Distribution des Longueurs de Commentaires')\n",
        "plt.show()"
      ],
      "metadata": {
        "colab": {
          "base_uri": "https://localhost:8080/",
          "height": 1000
        },
        "id": "ej2OTDS34jCx",
        "outputId": "62de7363-94b7-4fc2-821a-5adf74edc39c"
      },
      "execution_count": 6,
      "outputs": [
        {
          "output_type": "stream",
          "name": "stdout",
          "text": [
            "Informations de base sur le dataset :\n",
            "<class 'pandas.core.frame.DataFrame'>\n",
            "Index: 50000 entries, 61635 to 146621\n",
            "Data columns (total 10 columns):\n",
            " #   Column                  Non-Null Count  Dtype \n",
            "---  ------                  --------------  ----- \n",
            " 0   id                      50000 non-null  object\n",
            " 1   comment_text            50000 non-null  object\n",
            " 2   toxic                   50000 non-null  int64 \n",
            " 3   severe_toxic            50000 non-null  int64 \n",
            " 4   obscene                 50000 non-null  int64 \n",
            " 5   threat                  50000 non-null  int64 \n",
            " 6   insult                  50000 non-null  int64 \n",
            " 7   identity_hate           50000 non-null  int64 \n",
            " 8   cleaned_comment_text    50000 non-null  object\n",
            " 9   tokenized_comment_text  50000 non-null  object\n",
            "dtypes: int64(6), object(4)\n",
            "memory usage: 4.2+ MB\n",
            "None\n",
            "\n",
            "Vérification des valeurs manquantes :\n",
            "id                        0\n",
            "comment_text              0\n",
            "toxic                     0\n",
            "severe_toxic              0\n",
            "obscene                   0\n",
            "threat                    0\n",
            "insult                    0\n",
            "identity_hate             0\n",
            "cleaned_comment_text      0\n",
            "tokenized_comment_text    0\n",
            "dtype: int64\n",
            "\n",
            "Données après suppression des commentaires vides : (49985, 10)\n",
            "\n"
          ]
        },
        {
          "output_type": "display_data",
          "data": {
            "text/plain": [
              "<Figure size 1000x600 with 1 Axes>"
            ],
            "image/png": "[encoded data removed]"
          },
          "metadata": {}
        },
        {
          "output_type": "display_data",
          "data": {
            "text/plain": [
              "<Figure size 1000x600 with 1 Axes>"
            ],
            "image/png": "[encoded data removed]"
          },
          "metadata": {}
        }
      ]
    },
    {
      "cell_type": "markdown",
      "metadata": {
        "id": "LxNIQgESTCmE"
      },
      "source": [
        "# Entraînement du modèle baseline"
      ]
    },
    {
      "cell_type": "markdown",
      "metadata": {
        "id": "iauf-uctGF-n"
      },
      "source": [
        "##### A utilisé beaucoup trop de ram, on va tester autre choses"
      ]
    },
    {
      "cell_type": "code",
      "execution_count": null,
      "metadata": {
        "colab": {
          "base_uri": "https://localhost:8080/",
          "height": 140
        },
        "id": "YgkPpzIzSQUi",
        "outputId": "1efc998d-5369-4e49-95c7-498da41984ab"
      },
      "outputs": [
        {
          "data": {
            "text/plain": [
              "'# Split the data into training and testing sets\\nX_train, X_test, y_train, y_test = train_test_split(padded_sequences, data[target_columns], test_size=0.2, random_state=42)\\n\\n# Initialize the RandomForestClassifier\\nrf_classifier = RandomForestClassifier(n_estimators=100, random_state=42)\\n\\n# Train the model\\nrf_classifier.fit(X_train, y_train)\\n\\n# Make predictions on the test set\\ny_pred = rf_classifier.predict(X_test)\\n\\n# Evaluate the model\\nprint(\"Classification Report:\")\\nprint(classification_report(y_test, y_pred, target_names=target_columns))\\n\\nprint(\"Confusion Matrix:\")\\nprint(confusion_matrix(y_test.values.argmax(axis=1), y_pred.argmax(axis=1)))\\n\\nprint(\"Accuracy Score:\")\\nprint(accuracy_score(y_test, y_pred))'"
            ]
          },
          "execution_count": 30,
          "metadata": {},
          "output_type": "execute_result"
        }
      ],
      "source": [
        "\"\"\"# Split the data into training and testing sets\n",
        "X_train, X_test, y_train, y_test = train_test_split(padded_sequences, data[target_columns], test_size=0.2, random_state=42)\n",
        "\n",
        "# Initialize the RandomForestClassifier\n",
        "rf_classifier = RandomForestClassifier(n_estimators=100, random_state=42)\n",
        "\n",
        "# Train the model\n",
        "rf_classifier.fit(X_train, y_train)\n",
        "\n",
        "# Make predictions on the test set\n",
        "y_pred = rf_classifier.predict(X_test)\n",
        "\n",
        "# Evaluate the model\n",
        "print(\"Classification Report:\")\n",
        "print(classification_report(y_test, y_pred, target_names=target_columns))\n",
        "\n",
        "print(\"Confusion Matrix:\")\n",
        "print(confusion_matrix(y_test.values.argmax(axis=1), y_pred.argmax(axis=1)))\n",
        "\n",
        "print(\"Accuracy Score:\")\n",
        "print(accuracy_score(y_test, y_pred))\"\"\""
      ]
    },
    {
      "cell_type": "code",
      "execution_count": 17,
      "metadata": {
        "colab": {
          "base_uri": "https://localhost:8080/"
        },
        "id": "tiGsFzo-GSi3",
        "outputId": "fe9512e0-40d3-4661-928f-eec28a78f00e"
      },
      "outputs": [
        {
          "output_type": "stream",
          "name": "stdout",
          "text": [
            "✅ Chunk 0 traité en 7.57 sec - 9997 commentaires\n",
            "✅ Taille des séquences après padding: 9997\n",
            "✅ Chunk 1 traité en 7.37 sec - 9999 commentaires\n",
            "✅ Taille des séquences après padding: 9999\n",
            "✅ Chunk 2 traité en 5.39 sec - 10000 commentaires\n",
            "✅ Taille des séquences après padding: 10000\n",
            "✅ Chunk 3 traité en 4.25 sec - 10000 commentaires\n",
            "✅ Taille des séquences après padding: 10000\n",
            "✅ Chunk 4 traité en 5.89 sec - 9999 commentaires\n",
            "✅ Taille des séquences après padding: 9999\n",
            "✅✅ Traitement terminé ! Nombre total de séquences: 49995\n",
            "📊 Taille de padded_sequences: 49995\n",
            "📊 Taille de y: 49995\n",
            "🔹 Exemple final de séquences après traitement: [[0 0 0 0 0 0 0 0 0 0 0 0 0 0 0 0 0 0 0 0 0 0 0 0 0 0 0 0 0 0 0 0 0 0 0]\n",
            " [0 0 0 0 0 0 0 0 0 0 0 0 0 0 0 0 0 0 0 0 0 0 0 0 0 0 0 0 0 0 0 0 0 0 0]\n",
            " [0 0 0 0 0 0 0 0 0 0 0 0 0 0 0 0 0 0 0 0 0 0 0 0 0 0 0 0 0 0 0 0 0 0 0]\n",
            " [0 0 0 0 0 0 0 0 0 0 0 0 0 0 0 0 0 0 0 0 0 0 0 0 0 0 0 0 0 0 0 0 0 0 0]\n",
            " [0 0 0 0 0 0 0 0 0 0 0 0 0 0 0 0 0 0 0 0 0 0 0 0 0 0 0 0 0 0 0 0 0 0 0]]\n"
          ]
        }
      ],
      "source": [
        "# Fonction pour traiter chaque chunk\n",
        "def process_chunk(chunk, chunk_index):\n",
        "    start_time = time()\n",
        "    tweet_tokenizer = TweetTokenizer()  # Définir le tweet_tokenizer\n",
        "\n",
        "    # Nettoyage du texte\n",
        "    chunk['cleaned_comment_text'] = chunk['comment_text'].apply(clean_text)\n",
        "\n",
        "    # Supprimer les commentaires vides après nettoyage (en maintenant les indices)\n",
        "    chunk = chunk[chunk['cleaned_comment_text'].str.strip() != \"\"].reset_index(drop=True)\n",
        "\n",
        "    # Tokenisation\n",
        "    chunk['tokenized_comment_text'] = chunk['cleaned_comment_text'].apply(tweet_tokenizer.tokenize)\n",
        "\n",
        "    # Suppression des stopwords\n",
        "    chunk['tokenized_comment_text'] = chunk['tokenized_comment_text'].apply(lambda x: [word for word in x if word not in stop_words])\n",
        "\n",
        "    # Conversion en séquences de tokens\n",
        "    sequences = tokenizer.texts_to_sequences(list(chunk['cleaned_comment_text']))  # Utilisation de `list()` pour accélérer\n",
        "\n",
        "    # Supprimer les lignes avec NaN dans les labels et ré-aligner les indices\n",
        "    chunk = chunk.dropna(subset=target_columns).reset_index(drop=True)\n",
        "\n",
        "    # Padding\n",
        "    padded_sequences = pad_sequences(sequences, maxlen=max_length, padding='post')\n",
        "\n",
        "    # Vérification du nombre de lignes après traitement et nettoyage\n",
        "    print(f\"✅ Chunk {chunk_index} traité en {time() - start_time:.2f} sec - {len(chunk)} commentaires\")\n",
        "    print(f\"✅ Taille des séquences après padding: {padded_sequences.shape[0]}\")\n",
        "\n",
        "    return padded_sequences, chunk[target_columns].values\n",
        "\n",
        "# Paramètres de traitement en chunks\n",
        "chunk_size = 10000\n",
        "padded_sequences_list = []\n",
        "y_list = []\n",
        "\n",
        "# Lecture et traitement des données en chunks\n",
        "for chunk_index, chunk in enumerate(pd.read_csv(file_path, chunksize=chunk_size, nrows=chunk_size * 5)):\n",
        "    padded_sequences_chunk, y_chunk = process_chunk(chunk, chunk_index)\n",
        "    padded_sequences_list.append(padded_sequences_chunk)\n",
        "    y_list.append(y_chunk)\n",
        "\n",
        "# Concaténation des résultats finaux\n",
        "padded_sequences = np.concatenate(padded_sequences_list, axis=0)\n",
        "y = np.concatenate(y_list, axis=0)\n",
        "\n",
        "# Vérifier la taille des données\n",
        "print(\"✅✅ Traitement terminé ! Nombre total de séquences:\", padded_sequences.shape[0])\n",
        "print(\"📊 Taille de padded_sequences:\", padded_sequences.shape[0])\n",
        "print(\"📊 Taille de y:\", y.shape[0])\n",
        "\n",
        "# Vérification de la correspondance des tailles\n",
        "assert padded_sequences.shape[0] == y.shape[0], \"Les tailles de X et y ne correspondent pas !\"\n",
        "\n",
        "print(\"🔹 Exemple final de séquences après traitement:\", padded_sequences[:5])\n",
        "\n",
        "# Sauvegarder le tokenizer dans un fichier\n",
        "with open('/content/drive/My Drive/tokenizer.pickle', 'wb') as handle:\n",
        "    pickle.dump(tokenizer, handle, protocol=pickle.HIGHEST_PROTOCOL)\n"
      ]
    },
    {
      "cell_type": "markdown",
      "metadata": {
        "id": "2a8IWbTFTHXh"
      },
      "source": [
        "# Itération de la modélisation"
      ]
    },
    {
      "cell_type": "code",
      "source": [
        "# Ajuster le Tokenizer sur ton ensemble de texte\n",
        "tokenizer.fit_on_texts(data['cleaned_comment_text'])\n",
        "\n",
        "# Obtenir la taille du vocabulaire\n",
        "vocab_size = len(tokenizer.word_index) + 1  # Ajouter 1 car l'index commence à 1\n",
        "\n",
        "# Définition du modèle CNN\n",
        "model = Sequential([\n",
        "    Embedding(input_dim=vocab_size, output_dim=50),\n",
        "    Conv1D(filters=64, kernel_size=3, activation='relu'),\n",
        "    BatchNormalization(),\n",
        "    MaxPooling1D(pool_size=2),\n",
        "    Dropout(0.3),\n",
        "    Flatten(),\n",
        "    Dense(64, activation='relu'),\n",
        "    Dropout(0.3),\n",
        "    Dense(len(target_columns), activation='sigmoid')  # Multi-label classification\n",
        "])\n",
        "\n",
        "model.compile(optimizer='adam', loss='binary_crossentropy', metrics=['accuracy'])\n",
        "\n",
        "# Découper les données en ensembles d'entraînement et de test\n",
        "X_train, X_test, y_train, y_test = train_test_split(padded_sequences, y, test_size=0.2, random_state=42)\n",
        "\n",
        "# Entraîner le modèle\n",
        "model.fit(X_train, y_train, epochs=10, batch_size=32)\n",
        "\n",
        "# Faire des prédictions sur l'ensemble de test\n",
        "y_pred_best = model.predict(X_test)\n",
        "\n",
        "# Convertir les prédictions en valeurs binaires en utilisant un seuil de 0.5\n",
        "y_pred_best_binary = (y_pred_best > 0.5).astype(int)\n",
        "\n",
        "# Afficher le rapport de classification\n",
        "print(\"Classification Report with CNN:\")\n",
        "print(classification_report(y_test, y_pred_best_binary, target_names=target_columns))\n",
        "\n",
        "# Calculer l'accuracy pour chaque classe\n",
        "accuracies_per_class = []\n",
        "\n",
        "for i in range(y_test.shape[1]):  # Pour chaque colonne (chaque classe)\n",
        "    acc = accuracy_score(y_test[:, i], y_pred_best_binary[:, i])\n",
        "    accuracies_per_class.append(acc)\n",
        "\n",
        "# Afficher les accuracies par classe\n",
        "for i, class_name in enumerate(target_columns):\n",
        "    print(f\"Accuracy for {class_name}: {accuracies_per_class[i]:.4f}\")\n",
        "\n",
        "# Matrice de confusion\n",
        "fig, axes = plt.subplots(2, 3, figsize=(15, 10))  # 6 classes = 2 lignes, 3 colonnes\n",
        "#axes = axes.ravel() # Remove this line to keep axes as a 2D array\n",
        "\n",
        "# Boucle pour chaque colonne (chaque type de commentaire)\n",
        "for i, col in enumerate(target_columns):\n",
        "    # Calcul de la matrice de confusion pour la colonne 'col'\n",
        "    cm = confusion_matrix(y_test[:, i], y_pred_best_binary[:, i])\n",
        "    # Tracer la matrice de confusion\n",
        "    sns.heatmap(cm, annot=True, fmt='d', cmap='Blues', ax=axes.flatten()[i])\n",
        "    axes.flatten()[i].set_title(f'Confusion Matrix - {col}')\n",
        "    axes.flatten()[i].set_xlabel('Predicted Labels')\n",
        "    axes.flatten()[i].set_ylabel('True Labels')\n",
        "\n",
        "plt.tight_layout()\n",
        "plt.show()\n",
        "\n",
        "# Affichage du score de précision\n",
        "print(\"Accuracy Score with CNN:\")\n",
        "print(accuracy_score(y_test, y_pred_best_binary))\n",
        "\n",
        "# Enregistrement du modèle entraîné dans un fichier .h5\n",
        "model.save('modele_entraine.h5')\n",
        "\n",
        "# Vérification de l'enregistrement\n",
        "print(\"Le modèle a été sauvegardé avec succès sous le nom 'modele_entraine.h5'.\")"
      ],
      "metadata": {
        "colab": {
          "base_uri": "https://localhost:8080/",
          "height": 1000
        },
        "id": "_aiLXhvZoxPx",
        "outputId": "8c340c9f-afa2-4e6d-a1a6-f852a2742076"
      },
      "execution_count": 8,
      "outputs": [
        {
          "output_type": "stream",
          "name": "stdout",
          "text": [
            "Epoch 1/10\n",
            "\u001b[1m1250/1250\u001b[0m \u001b[32m━━━━━━━━━━━━━━━━━━━━\u001b[0m\u001b[37m\u001b[0m \u001b[1m72s\u001b[0m 54ms/step - accuracy: 0.6186 - loss: 0.1437\n",
            "Epoch 2/10\n",
            "\u001b[1m1250/1250\u001b[0m \u001b[32m━━━━━━━━━━━━━━━━━━━━\u001b[0m\u001b[37m\u001b[0m \u001b[1m78s\u001b[0m 51ms/step - accuracy: 0.9189 - loss: 0.0559\n",
            "Epoch 3/10\n",
            "\u001b[1m1250/1250\u001b[0m \u001b[32m━━━━━━━━━━━━━━━━━━━━\u001b[0m\u001b[37m\u001b[0m \u001b[1m90s\u001b[0m 58ms/step - accuracy: 0.9039 - loss: 0.0415\n",
            "Epoch 4/10\n",
            "\u001b[1m1250/1250\u001b[0m \u001b[32m━━━━━━━━━━━━━━━━━━━━\u001b[0m\u001b[37m\u001b[0m \u001b[1m78s\u001b[0m 54ms/step - accuracy: 0.8581 - loss: 0.0345\n",
            "Epoch 5/10\n",
            "\u001b[1m1250/1250\u001b[0m \u001b[32m━━━━━━━━━━━━━━━━━━━━\u001b[0m\u001b[37m\u001b[0m \u001b[1m79s\u001b[0m 52ms/step - accuracy: 0.6522 - loss: 0.0293\n",
            "Epoch 6/10\n",
            "\u001b[1m1250/1250\u001b[0m \u001b[32m━━━━━━━━━━━━━━━━━━━━\u001b[0m\u001b[37m\u001b[0m \u001b[1m84s\u001b[0m 54ms/step - accuracy: 0.6226 - loss: 0.0259\n",
            "Epoch 7/10\n",
            "\u001b[1m1250/1250\u001b[0m \u001b[32m━━━━━━━━━━━━━━━━━━━━\u001b[0m\u001b[37m\u001b[0m \u001b[1m83s\u001b[0m 55ms/step - accuracy: 0.5340 - loss: 0.0191\n",
            "Epoch 8/10\n",
            "\u001b[1m1250/1250\u001b[0m \u001b[32m━━━━━━━━━━━━━━━━━━━━\u001b[0m\u001b[37m\u001b[0m \u001b[1m78s\u001b[0m 51ms/step - accuracy: 0.4371 - loss: 0.0187\n",
            "Epoch 9/10\n",
            "\u001b[1m1250/1250\u001b[0m \u001b[32m━━━━━━━━━━━━━━━━━━━━\u001b[0m\u001b[37m\u001b[0m \u001b[1m83s\u001b[0m 52ms/step - accuracy: 0.4692 - loss: 0.0152\n",
            "Epoch 10/10\n",
            "\u001b[1m1250/1250\u001b[0m \u001b[32m━━━━━━━━━━━━━━━━━━━━\u001b[0m\u001b[37m\u001b[0m \u001b[1m90s\u001b[0m 59ms/step - accuracy: 0.5152 - loss: 0.0151\n",
            "\u001b[1m313/313\u001b[0m \u001b[32m━━━━━━━━━━━━━━━━━━━━\u001b[0m\u001b[37m\u001b[0m \u001b[1m1s\u001b[0m 3ms/step\n",
            "Classification Report with CNN:\n",
            "               precision    recall  f1-score   support\n",
            "\n",
            "        toxic       0.79      0.57      0.66       966\n",
            " severe_toxic       0.45      0.24      0.31       104\n",
            "      obscene       0.74      0.65      0.69       529\n",
            "       threat       0.29      0.06      0.09        36\n",
            "       insult       0.64      0.60      0.62       476\n",
            "identity_hate       0.52      0.14      0.22        88\n",
            "\n",
            "    micro avg       0.72      0.55      0.63      2199\n",
            "    macro avg       0.57      0.37      0.43      2199\n",
            " weighted avg       0.71      0.55      0.62      2199\n",
            "  samples avg       0.05      0.05      0.05      2199\n",
            "\n",
            "Accuracy for toxic: 0.9439\n",
            "Accuracy for severe_toxic: 0.9890\n",
            "Accuracy for obscene: 0.9694\n",
            "Accuracy for threat: 0.9961\n",
            "Accuracy for insult: 0.9647\n",
            "Accuracy for identity_hate: 0.9913\n"
          ]
        },
        {
          "output_type": "stream",
          "name": "stderr",
          "text": [
            "/usr/local/lib/python3.11/dist-packages/sklearn/metrics/_classification.py:1565: UndefinedMetricWarning: Precision is ill-defined and being set to 0.0 in samples with no predicted labels. Use `zero_division` parameter to control this behavior.\n",
            "  _warn_prf(average, modifier, f\"{metric.capitalize()} is\", len(result))\n",
            "/usr/local/lib/python3.11/dist-packages/sklearn/metrics/_classification.py:1565: UndefinedMetricWarning: Recall is ill-defined and being set to 0.0 in samples with no true labels. Use `zero_division` parameter to control this behavior.\n",
            "  _warn_prf(average, modifier, f\"{metric.capitalize()} is\", len(result))\n",
            "/usr/local/lib/python3.11/dist-packages/sklearn/metrics/_classification.py:1565: UndefinedMetricWarning: F-score is ill-defined and being set to 0.0 in samples with no true nor predicted labels. Use `zero_division` parameter to control this behavior.\n",
            "  _warn_prf(average, modifier, f\"{metric.capitalize()} is\", len(result))\n"
          ]
        },
        {
          "output_type": "display_data",
          "data": {
            "text/plain": [
              "<Figure size 1500x1000 with 12 Axes>"
            ],
            "image/png": "[encoded data removed]"
          },
          "metadata": {}
        },
        {
          "output_type": "stream",
          "name": "stderr",
          "text": [
            "WARNING:absl:You are saving your model as an HDF5 file via `model.save()` or `keras.saving.save_model(model)`. This file format is considered legacy. We recommend using instead the native Keras format, e.g. `model.save('my_model.keras')` or `keras.saving.save_model(model, 'my_model.keras')`. \n"
          ]
        },
        {
          "output_type": "stream",
          "name": "stdout",
          "text": [
            "Accuracy Score with CNN:\n",
            "0.9026902690269026\n",
            "Le modèle a été sauvegardé avec succès sous le nom 'modele_entraine.h5'.\n"
          ]
        }
      ]
    },
    {
      "cell_type": "code",
      "source": [
        "from google.colab import drive\n",
        "drive.mount('/content/drive')\n",
        "\n",
        "# Enregistrer le modèle sur Google Drive\n",
        "model.save('/content/drive/My Drive/mon_modele.h5')\n",
        "\n",
        "# Vérification\n",
        "print(\"Le modèle a été sauvegardé sur Google Drive sous le nom 'mon_modele.h5'.\")"
      ],
      "metadata": {
        "id": "gcum52AsBZV3",
        "outputId": "e960d463-239c-49cb-f24a-31309e76814b",
        "colab": {
          "base_uri": "https://localhost:8080/"
        }
      },
      "execution_count": 13,
      "outputs": [
        {
          "output_type": "stream",
          "name": "stderr",
          "text": [
            "WARNING:absl:You are saving your model as an HDF5 file via `model.save()` or `keras.saving.save_model(model)`. This file format is considered legacy. We recommend using instead the native Keras format, e.g. `model.save('my_model.keras')` or `keras.saving.save_model(model, 'my_model.keras')`. \n"
          ]
        },
        {
          "output_type": "stream",
          "name": "stdout",
          "text": [
            "Drive already mounted at /content/drive; to attempt to forcibly remount, call drive.mount(\"/content/drive\", force_remount=True).\n",
            "Le modèle a été sauvegardé sur Google Drive sous le nom 'mon_modele.h5'.\n"
          ]
        }
      ]
    },
    {
      "cell_type": "code",
      "source": [
        "import re\n",
        "import pickle\n",
        "import numpy as np\n",
        "from keras.models import load_model\n",
        "from keras.preprocessing.text import Tokenizer\n",
        "from keras.preprocessing.sequence import pad_sequences\n",
        "\n",
        "# 1. Charger le modèle préalablement entraîné\n",
        "model = load_model('/content/drive/My Drive/mon_modele.h5')\n",
        "\n",
        "# Recompiler le modèle pour s'assurer qu'il est prêt à être utilisé\n",
        "model.compile(optimizer='adam', loss='binary_crossentropy', metrics=['accuracy'])\n",
        "\n",
        "# 2. Charger le tokenizer sauvegardé lors de l'entraînement\n",
        "with open('/content/drive/My Drive/tokenizer.pickle', 'rb') as handle:\n",
        "    tokenizer = pickle.load(handle)\n",
        "\n",
        "# Définir la longueur maximale des séquences (doit correspondre à celle utilisée à l'entraînement)\n",
        "MAXLEN = 100  # Ajuste cette valeur si elle est différente dans ton entraînement\n",
        "\n",
        "# Charger les noms des catégories (les étiquettes de classification)\n",
        "target_columns = [\"toxic\", \"severe_toxic\", \"obscene\", \"threat\", \"insult\", \"identity_hate\"]\n",
        "\n",
        "# Exemple de nettoyage du texte (doit être cohérent avec ce qui a été fait avant l'entraînement)\n",
        "def clean_text(text):\n",
        "    text = text.lower()  # Convertir en minuscules\n",
        "    text = re.sub(r'http\\S+', '', text)  # Supprimer les liens URL\n",
        "    text = re.sub(r'@\\w+', '', text)  # Supprimer les mentions\n",
        "    text = re.sub(r'#[A-Za-z0-9]+', '', text)  # Supprimer les hashtags\n",
        "    text = re.sub(r'[^a-zA-Z\\s]', '', text)  # Supprimer la ponctuation et les chiffres\n",
        "    text = text.strip()  # Supprimer les espaces superflus\n",
        "    return text\n",
        "\n",
        "# 3. Fonction de classification\n",
        "def classify_text(input_text):\n",
        "    # Nettoyer le texte\n",
        "    cleaned_text = clean_text(input_text)\n",
        "\n",
        "    # Tokeniser le texte\n",
        "    text_sequence = tokenizer.texts_to_sequences([cleaned_text])\n",
        "\n",
        "    # Appliquer le padding\n",
        "    padded_text = pad_sequences(text_sequence, maxlen=MAXLEN, padding='post')\n",
        "\n",
        "    # Vérification de la forme de l'entrée\n",
        "    print(\"Shape de l'entrée après padding:\", padded_text.shape)\n",
        "\n",
        "    # Prédiction avec le modèle\n",
        "    prediction = model.predict(padded_text)\n",
        "\n",
        "    # Convertir la prédiction en binaire (0 ou 1) avec un seuil de 0.5\n",
        "    prediction_binary = (prediction > 0.5).astype(int)\n",
        "\n",
        "    # Associer les prédictions aux labels des classes\n",
        "    result = {target_columns[i]: 'Toxic' if prediction_binary[0][i] == 1 else 'Non Toxic' for i in range(len(target_columns))}\n",
        "\n",
        "    return result\n",
        "\n",
        "# 4. Exemple d'utilisation de la fonction\n",
        "input_text = \"You are so stupid and awful!\"\n",
        "\n",
        "# Appeler la fonction de classification\n",
        "result = classify_text(input_text)\n",
        "\n",
        "# Afficher le résultat\n",
        "print(\"Résultat de la classification :\")\n",
        "for label, prediction in result.items():\n",
        "    print(f\"{label}: {prediction}\")\n"
      ],
      "metadata": {
        "id": "XF29-VZlBorS",
        "outputId": "2a59a1c2-0d4e-499a-8c37-dfa4907c06fd",
        "colab": {
          "base_uri": "https://localhost:8080/",
          "height": 495
        }
      },
      "execution_count": 16,
      "outputs": [
        {
          "output_type": "stream",
          "name": "stderr",
          "text": [
            "WARNING:absl:Compiled the loaded model, but the compiled metrics have yet to be built. `model.compile_metrics` will be empty until you train or evaluate the model.\n"
          ]
        },
        {
          "output_type": "error",
          "ename": "ValueError",
          "evalue": "Exception encountered when calling Sequential.call().\n\n\u001b[1mInput 0 of layer \"dense\" is incompatible with the layer: expected axis -1 of input shape to have value 1024, but received input with shape (1, 3136)\u001b[0m\n\nArguments received by Sequential.call():\n  • inputs=tf.Tensor(shape=(1, 100), dtype=int32)\n  • training=False\n  • mask=None",
          "traceback": [
            "\u001b[0;31m---------------------------------------------------------------------------\u001b[0m",
            "\u001b[0;31mValueError\u001b[0m                                Traceback (most recent call last)",
            "\u001b[0;32m<ipython-input-16-9ae1120a6d09>\u001b[0m in \u001b[0;36m<cell line: 0>\u001b[0;34m()\u001b[0m\n\u001b[1;32m     50\u001b[0m \u001b[0;34m\u001b[0m\u001b[0m\n\u001b[1;32m     51\u001b[0m \u001b[0;31m# Appeler la fonction de classification\u001b[0m\u001b[0;34m\u001b[0m\u001b[0;34m\u001b[0m\u001b[0m\n\u001b[0;32m---> 52\u001b[0;31m \u001b[0mresult\u001b[0m \u001b[0;34m=\u001b[0m \u001b[0mclassify_text\u001b[0m\u001b[0;34m(\u001b[0m\u001b[0minput_text\u001b[0m\u001b[0;34m)\u001b[0m\u001b[0;34m\u001b[0m\u001b[0;34m\u001b[0m\u001b[0m\n\u001b[0m\u001b[1;32m     53\u001b[0m \u001b[0;34m\u001b[0m\u001b[0m\n\u001b[1;32m     54\u001b[0m \u001b[0;31m# Afficher le résultat\u001b[0m\u001b[0;34m\u001b[0m\u001b[0;34m\u001b[0m\u001b[0m\n",
            "\u001b[0;32m<ipython-input-16-9ae1120a6d09>\u001b[0m in \u001b[0;36mclassify_text\u001b[0;34m(input_text)\u001b[0m\n\u001b[1;32m     36\u001b[0m \u001b[0;34m\u001b[0m\u001b[0m\n\u001b[1;32m     37\u001b[0m     \u001b[0;31m# Prédiction avec le modèle\u001b[0m\u001b[0;34m\u001b[0m\u001b[0;34m\u001b[0m\u001b[0m\n\u001b[0;32m---> 38\u001b[0;31m     \u001b[0mprediction\u001b[0m \u001b[0;34m=\u001b[0m \u001b[0mmodel\u001b[0m\u001b[0;34m.\u001b[0m\u001b[0mpredict\u001b[0m\u001b[0;34m(\u001b[0m\u001b[0mpadded_text\u001b[0m\u001b[0;34m)\u001b[0m\u001b[0;34m\u001b[0m\u001b[0;34m\u001b[0m\u001b[0m\n\u001b[0m\u001b[1;32m     39\u001b[0m \u001b[0;34m\u001b[0m\u001b[0m\n\u001b[1;32m     40\u001b[0m     \u001b[0;31m# Convertir la prédiction en binaire (0 ou 1) en utilisant un seuil de 0.5\u001b[0m\u001b[0;34m\u001b[0m\u001b[0;34m\u001b[0m\u001b[0m\n",
            "\u001b[0;32m/usr/local/lib/python3.11/dist-packages/keras/src/utils/traceback_utils.py\u001b[0m in \u001b[0;36merror_handler\u001b[0;34m(*args, **kwargs)\u001b[0m\n\u001b[1;32m    120\u001b[0m             \u001b[0;31m# To get the full stack trace, call:\u001b[0m\u001b[0;34m\u001b[0m\u001b[0;34m\u001b[0m\u001b[0m\n\u001b[1;32m    121\u001b[0m             \u001b[0;31m# `keras.config.disable_traceback_filtering()`\u001b[0m\u001b[0;34m\u001b[0m\u001b[0;34m\u001b[0m\u001b[0m\n\u001b[0;32m--> 122\u001b[0;31m             \u001b[0;32mraise\u001b[0m \u001b[0me\u001b[0m\u001b[0;34m.\u001b[0m\u001b[0mwith_traceback\u001b[0m\u001b[0;34m(\u001b[0m\u001b[0mfiltered_tb\u001b[0m\u001b[0;34m)\u001b[0m \u001b[0;32mfrom\u001b[0m \u001b[0;32mNone\u001b[0m\u001b[0;34m\u001b[0m\u001b[0;34m\u001b[0m\u001b[0m\n\u001b[0m\u001b[1;32m    123\u001b[0m         \u001b[0;32mfinally\u001b[0m\u001b[0;34m:\u001b[0m\u001b[0;34m\u001b[0m\u001b[0;34m\u001b[0m\u001b[0m\n\u001b[1;32m    124\u001b[0m             \u001b[0;32mdel\u001b[0m \u001b[0mfiltered_tb\u001b[0m\u001b[0;34m\u001b[0m\u001b[0;34m\u001b[0m\u001b[0m\n",
            "\u001b[0;32m/usr/local/lib/python3.11/dist-packages/keras/src/layers/input_spec.py\u001b[0m in \u001b[0;36massert_input_compatibility\u001b[0;34m(input_spec, inputs, layer_name)\u001b[0m\n\u001b[1;32m    225\u001b[0m                     \u001b[0;32mNone\u001b[0m\u001b[0;34m,\u001b[0m\u001b[0;34m\u001b[0m\u001b[0;34m\u001b[0m\u001b[0m\n\u001b[1;32m    226\u001b[0m                 }:\n\u001b[0;32m--> 227\u001b[0;31m                     raise ValueError(\n\u001b[0m\u001b[1;32m    228\u001b[0m                         \u001b[0;34mf'Input {input_index} of layer \"{layer_name}\" is '\u001b[0m\u001b[0;34m\u001b[0m\u001b[0;34m\u001b[0m\u001b[0m\n\u001b[1;32m    229\u001b[0m                         \u001b[0;34mf\"incompatible with the layer: expected axis {axis} \"\u001b[0m\u001b[0;34m\u001b[0m\u001b[0;34m\u001b[0m\u001b[0m\n",
            "\u001b[0;31mValueError\u001b[0m: Exception encountered when calling Sequential.call().\n\n\u001b[1mInput 0 of layer \"dense\" is incompatible with the layer: expected axis -1 of input shape to have value 1024, but received input with shape (1, 3136)\u001b[0m\n\nArguments received by Sequential.call():\n  • inputs=tf.Tensor(shape=(1, 100), dtype=int32)\n  • training=False\n  • mask=None"
          ]
        }
      ]
    }
  ],
  "metadata": {
    "accelerator": "GPU",
    "colab": {
      "gpuType": "T4",
      "provenance": []
    },
    "kernelspec": {
      "display_name": "Python 3",
      "name": "python3"
    },
    "language_info": {
      "codemirror_mode": {
        "name": "ipython",
        "version": 3
      },
      "file_extension": ".py",
      "mimetype": "text/x-python",
      "name": "python",
      "nbconvert_exporter": "python",
      "pygments_lexer": "ipython3",
      "version": "3.12.5"
    }
  },
  "nbformat": 4,
  "nbformat_minor": 0
}