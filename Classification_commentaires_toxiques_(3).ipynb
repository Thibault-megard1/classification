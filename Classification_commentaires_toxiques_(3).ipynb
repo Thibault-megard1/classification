{
  "cells": [
    {
      "cell_type": "markdown",
      "metadata": {
        "id": "_lyJzHuKRNWX"
      },
      "source": [
        "# Importation des packages"
      ]
    },
    {
      "cell_type": "code",
      "execution_count": 57,
      "metadata": {
        "id": "MUj96QiIQsJ_"
      },
      "outputs": [],
      "source": [
        "import numpy as np\n",
        "import pandas as pd\n",
        "import matplotlib.pyplot as plt\n",
        "import matplotlib.cm as cm\n",
        "import tensorflow as tf\n",
        "import seaborn as sns\n",
        "import pickle\n"
      ]
    },
    {
      "cell_type": "markdown",
      "metadata": {
        "id": "xZLpUMItRWc0"
      },
      "source": [
        "# Importation des données"
      ]
    },
    {
      "cell_type": "markdown",
      "metadata": {
        "id": "cbE3MzVKRaV2"
      },
      "source": [
        "Ajoutez un raccourci de ce dossier à votre google drive :\n",
        "\n",
        "https://drive.google.com/drive/folders/1mx-CAzT10YKrmxHfYDP_1Oef7PVGUr7s?usp=sharing"
      ]
    },
    {
      "cell_type": "code",
      "execution_count": 58,
      "metadata": {
        "colab": {
          "base_uri": "https://localhost:8080/"
        },
        "id": "4FktfCVaRVrs",
        "outputId": "70b6cda6-0010-4931-d00a-56a8cc367266"
      },
      "outputs": [
        {
          "output_type": "stream",
          "name": "stdout",
          "text": [
            "Mounted at /content/drive\n"
          ]
        }
      ],
      "source": [
        "#Ce code permet de faire fonctionner tout le fichier dans VSCode et dans Google Collab sans avoir besoin de changer le code\n",
        "def check_and_mount_drive():\n",
        "    error = False\n",
        "    try:\n",
        "        from google.colab import drive\n",
        "        drive.mount('/content/drive', force_remount=True)\n",
        "    except Exception as e:\n",
        "        error = True\n",
        "    return error\n",
        "\n",
        "error_detected = check_and_mount_drive()\n"
      ]
    },
    {
      "cell_type": "markdown",
      "source": [
        "# Importation des bibliothèque"
      ],
      "metadata": {
        "id": "5YsdDqf0ARWg"
      }
    },
    {
      "cell_type": "code",
      "execution_count": 33,
      "metadata": {
        "id": "xbn5j1Bm_ysZ"
      },
      "outputs": [],
      "source": [
        "from time import time\n",
        "\n",
        "# Import Regex to clean up tweets\n",
        "import re\n",
        "\n",
        "import nltk, string\n",
        "from nltk.corpus import stopwords\n",
        "from nltk.tokenize import TweetTokenizer\n",
        "\n",
        "# Get Reviews\n",
        "import requests\n",
        "import json\n",
        "\n",
        "# Get Tweets\n",
        "import httplib2\n",
        "import requests\n",
        "import urllib3\n",
        "#from drive.MyDrive.RNN_sentiment_dataset.random_tweets import *\n",
        "\n",
        "# TF IDF Imports\n",
        "from sklearn.feature_extraction.text import TfidfVectorizer\n",
        "from sklearn.model_selection import GridSearchCV, train_test_split\n",
        "from scipy.sparse import csc_matrix\n",
        "from sklearn.metrics import classification_report, confusion_matrix, accuracy_score\n",
        "from joblib import dump, load\n",
        "\n",
        "# CNN Imports\n",
        "from tensorflow.keras.layers import Conv1D, MaxPooling1D, Embedding, GlobalMaxPooling1D, Dense, Dropout, Flatten, Bidirectional, LSTM, BatchNormalization\n",
        "from tensorflow.keras.models import Sequential\n",
        "from tensorflow.keras.optimizers import Adam\n",
        "from tensorflow.keras.preprocessing.text import Tokenizer\n",
        "from tensorflow.keras.preprocessing.sequence import pad_sequences\n",
        "from keras.models import load_model\n",
        "\n",
        "import random\n"
      ]
    },
    {
      "cell_type": "code",
      "execution_count": 64,
      "metadata": {
        "colab": {
          "base_uri": "https://localhost:8080/",
          "height": 330
        },
        "id": "qky64Lq8Rocy",
        "outputId": "d329b1f8-3d70-4c86-99a1-7eed36df73ec"
      },
      "outputs": [
        {
          "output_type": "stream",
          "name": "stdout",
          "text": [
            "529087\n"
          ]
        },
        {
          "output_type": "execute_result",
          "data": {
            "text/plain": [
              "                      id                                       comment_text  \\\n",
              "120631  8549ab7c6a364d6f  The only thing you sons of biches can do. FUCK...   \n",
              "90514   f2369ef949d3e363  Expansion\\nTamogami has also said in interview...   \n",
              "67372   b443598e448e56b2  See the following:\\nPolicy on neutral point of...   \n",
              "12785   21e7c79d49c5f06b  \"\\n\\nWashington sister cities\\nI put sources I...   \n",
              "9610    197702d8e13970d7                         wikibofh reverted 3 times.   \n",
              "\n",
              "        toxic  severe_toxic  obscene  threat  insult  identity_hate  \n",
              "120631      1             1        1       0       1              0  \n",
              "90514       0             0        0       0       0              0  \n",
              "67372       0             0        0       0       0              0  \n",
              "12785       0             0        0       0       0              0  \n",
              "9610        0             0        0       0       0              0  "
            ],
            "text/html": [
              "\n",
              "  <div id=\"df-38c6e25f-7c6d-43d8-850d-560144c43f77\" class=\"colab-df-container\">\n",
              "    <div>\n",
              "<style scoped>\n",
              "    .dataframe tbody tr th:only-of-type {\n",
              "        vertical-align: middle;\n",
              "    }\n",
              "\n",
              "    .dataframe tbody tr th {\n",
              "        vertical-align: top;\n",
              "    }\n",
              "\n",
              "    .dataframe thead th {\n",
              "        text-align: right;\n",
              "    }\n",
              "</style>\n",
              "<table border=\"1\" class=\"dataframe\">\n",
              "  <thead>\n",
              "    <tr style=\"text-align: right;\">\n",
              "      <th></th>\n",
              "      <th>id</th>\n",
              "      <th>comment_text</th>\n",
              "      <th>toxic</th>\n",
              "      <th>severe_toxic</th>\n",
              "      <th>obscene</th>\n",
              "      <th>threat</th>\n",
              "      <th>insult</th>\n",
              "      <th>identity_hate</th>\n",
              "    </tr>\n",
              "  </thead>\n",
              "  <tbody>\n",
              "    <tr>\n",
              "      <th>120631</th>\n",
              "      <td>8549ab7c6a364d6f</td>\n",
              "      <td>The only thing you sons of biches can do. FUCK...</td>\n",
              "      <td>1</td>\n",
              "      <td>1</td>\n",
              "      <td>1</td>\n",
              "      <td>0</td>\n",
              "      <td>1</td>\n",
              "      <td>0</td>\n",
              "    </tr>\n",
              "    <tr>\n",
              "      <th>90514</th>\n",
              "      <td>f2369ef949d3e363</td>\n",
              "      <td>Expansion\\nTamogami has also said in interview...</td>\n",
              "      <td>0</td>\n",
              "      <td>0</td>\n",
              "      <td>0</td>\n",
              "      <td>0</td>\n",
              "      <td>0</td>\n",
              "      <td>0</td>\n",
              "    </tr>\n",
              "    <tr>\n",
              "      <th>67372</th>\n",
              "      <td>b443598e448e56b2</td>\n",
              "      <td>See the following:\\nPolicy on neutral point of...</td>\n",
              "      <td>0</td>\n",
              "      <td>0</td>\n",
              "      <td>0</td>\n",
              "      <td>0</td>\n",
              "      <td>0</td>\n",
              "      <td>0</td>\n",
              "    </tr>\n",
              "    <tr>\n",
              "      <th>12785</th>\n",
              "      <td>21e7c79d49c5f06b</td>\n",
              "      <td>\"\\n\\nWashington sister cities\\nI put sources I...</td>\n",
              "      <td>0</td>\n",
              "      <td>0</td>\n",
              "      <td>0</td>\n",
              "      <td>0</td>\n",
              "      <td>0</td>\n",
              "      <td>0</td>\n",
              "    </tr>\n",
              "    <tr>\n",
              "      <th>9610</th>\n",
              "      <td>197702d8e13970d7</td>\n",
              "      <td>wikibofh reverted 3 times.</td>\n",
              "      <td>0</td>\n",
              "      <td>0</td>\n",
              "      <td>0</td>\n",
              "      <td>0</td>\n",
              "      <td>0</td>\n",
              "      <td>0</td>\n",
              "    </tr>\n",
              "  </tbody>\n",
              "</table>\n",
              "</div>\n",
              "    <div class=\"colab-df-buttons\">\n",
              "\n",
              "  <div class=\"colab-df-container\">\n",
              "    <button class=\"colab-df-convert\" onclick=\"convertToInteractive('df-38c6e25f-7c6d-43d8-850d-560144c43f77')\"\n",
              "            title=\"Convert this dataframe to an interactive table.\"\n",
              "            style=\"display:none;\">\n",
              "\n",
              "  <svg xmlns=\"http://www.w3.org/2000/svg\" height=\"24px\" viewBox=\"0 -960 960 960\">\n",
              "    <path d=\"M120-120v-720h720v720H120Zm60-500h600v-160H180v160Zm220 220h160v-160H400v160Zm0 220h160v-160H400v160ZM180-400h160v-160H180v160Zm440 0h160v-160H620v160ZM180-180h160v-160H180v160Zm440 0h160v-160H620v160Z\"/>\n",
              "  </svg>\n",
              "    </button>\n",
              "\n",
              "  <style>\n",
              "    .colab-df-container {\n",
              "      display:flex;\n",
              "      gap: 12px;\n",
              "    }\n",
              "\n",
              "    .colab-df-convert {\n",
              "      background-color: #E8F0FE;\n",
              "      border: none;\n",
              "      border-radius: 50%;\n",
              "      cursor: pointer;\n",
              "      display: none;\n",
              "      fill: #1967D2;\n",
              "      height: 32px;\n",
              "      padding: 0 0 0 0;\n",
              "      width: 32px;\n",
              "    }\n",
              "\n",
              "    .colab-df-convert:hover {\n",
              "      background-color: #E2EBFA;\n",
              "      box-shadow: 0px 1px 2px rgba(60, 64, 67, 0.3), 0px 1px 3px 1px rgba(60, 64, 67, 0.15);\n",
              "      fill: #174EA6;\n",
              "    }\n",
              "\n",
              "    .colab-df-buttons div {\n",
              "      margin-bottom: 4px;\n",
              "    }\n",
              "\n",
              "    [theme=dark] .colab-df-convert {\n",
              "      background-color: #3B4455;\n",
              "      fill: #D2E3FC;\n",
              "    }\n",
              "\n",
              "    [theme=dark] .colab-df-convert:hover {\n",
              "      background-color: #434B5C;\n",
              "      box-shadow: 0px 1px 3px 1px rgba(0, 0, 0, 0.15);\n",
              "      filter: drop-shadow(0px 1px 2px rgba(0, 0, 0, 0.3));\n",
              "      fill: #FFFFFF;\n",
              "    }\n",
              "  </style>\n",
              "\n",
              "    <script>\n",
              "      const buttonEl =\n",
              "        document.querySelector('#df-38c6e25f-7c6d-43d8-850d-560144c43f77 button.colab-df-convert');\n",
              "      buttonEl.style.display =\n",
              "        google.colab.kernel.accessAllowed ? 'block' : 'none';\n",
              "\n",
              "      async function convertToInteractive(key) {\n",
              "        const element = document.querySelector('#df-38c6e25f-7c6d-43d8-850d-560144c43f77');\n",
              "        const dataTable =\n",
              "          await google.colab.kernel.invokeFunction('convertToInteractive',\n",
              "                                                    [key], {});\n",
              "        if (!dataTable) return;\n",
              "\n",
              "        const docLinkHtml = 'Like what you see? Visit the ' +\n",
              "          '<a target=\"_blank\" href=https://colab.research.google.com/notebooks/data_table.ipynb>data table notebook</a>'\n",
              "          + ' to learn more about interactive tables.';\n",
              "        element.innerHTML = '';\n",
              "        dataTable['output_type'] = 'display_data';\n",
              "        await google.colab.output.renderOutput(dataTable, element);\n",
              "        const docLink = document.createElement('div');\n",
              "        docLink.innerHTML = docLinkHtml;\n",
              "        element.appendChild(docLink);\n",
              "      }\n",
              "    </script>\n",
              "  </div>\n",
              "\n",
              "\n",
              "<div id=\"df-0b04ffff-467d-4909-a0c9-07441ad77a25\">\n",
              "  <button class=\"colab-df-quickchart\" onclick=\"quickchart('df-0b04ffff-467d-4909-a0c9-07441ad77a25')\"\n",
              "            title=\"Suggest charts\"\n",
              "            style=\"display:none;\">\n",
              "\n",
              "<svg xmlns=\"http://www.w3.org/2000/svg\" height=\"24px\"viewBox=\"0 0 24 24\"\n",
              "     width=\"24px\">\n",
              "    <g>\n",
              "        <path d=\"M19 3H5c-1.1 0-2 .9-2 2v14c0 1.1.9 2 2 2h14c1.1 0 2-.9 2-2V5c0-1.1-.9-2-2-2zM9 17H7v-7h2v7zm4 0h-2V7h2v10zm4 0h-2v-4h2v4z\"/>\n",
              "    </g>\n",
              "</svg>\n",
              "  </button>\n",
              "\n",
              "<style>\n",
              "  .colab-df-quickchart {\n",
              "      --bg-color: #E8F0FE;\n",
              "      --fill-color: #1967D2;\n",
              "      --hover-bg-color: #E2EBFA;\n",
              "      --hover-fill-color: #174EA6;\n",
              "      --disabled-fill-color: #AAA;\n",
              "      --disabled-bg-color: #DDD;\n",
              "  }\n",
              "\n",
              "  [theme=dark] .colab-df-quickchart {\n",
              "      --bg-color: #3B4455;\n",
              "      --fill-color: #D2E3FC;\n",
              "      --hover-bg-color: #434B5C;\n",
              "      --hover-fill-color: #FFFFFF;\n",
              "      --disabled-bg-color: #3B4455;\n",
              "      --disabled-fill-color: #666;\n",
              "  }\n",
              "\n",
              "  .colab-df-quickchart {\n",
              "    background-color: var(--bg-color);\n",
              "    border: none;\n",
              "    border-radius: 50%;\n",
              "    cursor: pointer;\n",
              "    display: none;\n",
              "    fill: var(--fill-color);\n",
              "    height: 32px;\n",
              "    padding: 0;\n",
              "    width: 32px;\n",
              "  }\n",
              "\n",
              "  .colab-df-quickchart:hover {\n",
              "    background-color: var(--hover-bg-color);\n",
              "    box-shadow: 0 1px 2px rgba(60, 64, 67, 0.3), 0 1px 3px 1px rgba(60, 64, 67, 0.15);\n",
              "    fill: var(--button-hover-fill-color);\n",
              "  }\n",
              "\n",
              "  .colab-df-quickchart-complete:disabled,\n",
              "  .colab-df-quickchart-complete:disabled:hover {\n",
              "    background-color: var(--disabled-bg-color);\n",
              "    fill: var(--disabled-fill-color);\n",
              "    box-shadow: none;\n",
              "  }\n",
              "\n",
              "  .colab-df-spinner {\n",
              "    border: 2px solid var(--fill-color);\n",
              "    border-color: transparent;\n",
              "    border-bottom-color: var(--fill-color);\n",
              "    animation:\n",
              "      spin 1s steps(1) infinite;\n",
              "  }\n",
              "\n",
              "  @keyframes spin {\n",
              "    0% {\n",
              "      border-color: transparent;\n",
              "      border-bottom-color: var(--fill-color);\n",
              "      border-left-color: var(--fill-color);\n",
              "    }\n",
              "    20% {\n",
              "      border-color: transparent;\n",
              "      border-left-color: var(--fill-color);\n",
              "      border-top-color: var(--fill-color);\n",
              "    }\n",
              "    30% {\n",
              "      border-color: transparent;\n",
              "      border-left-color: var(--fill-color);\n",
              "      border-top-color: var(--fill-color);\n",
              "      border-right-color: var(--fill-color);\n",
              "    }\n",
              "    40% {\n",
              "      border-color: transparent;\n",
              "      border-right-color: var(--fill-color);\n",
              "      border-top-color: var(--fill-color);\n",
              "    }\n",
              "    60% {\n",
              "      border-color: transparent;\n",
              "      border-right-color: var(--fill-color);\n",
              "    }\n",
              "    80% {\n",
              "      border-color: transparent;\n",
              "      border-right-color: var(--fill-color);\n",
              "      border-bottom-color: var(--fill-color);\n",
              "    }\n",
              "    90% {\n",
              "      border-color: transparent;\n",
              "      border-bottom-color: var(--fill-color);\n",
              "    }\n",
              "  }\n",
              "</style>\n",
              "\n",
              "  <script>\n",
              "    async function quickchart(key) {\n",
              "      const quickchartButtonEl =\n",
              "        document.querySelector('#' + key + ' button');\n",
              "      quickchartButtonEl.disabled = true;  // To prevent multiple clicks.\n",
              "      quickchartButtonEl.classList.add('colab-df-spinner');\n",
              "      try {\n",
              "        const charts = await google.colab.kernel.invokeFunction(\n",
              "            'suggestCharts', [key], {});\n",
              "      } catch (error) {\n",
              "        console.error('Error during call to suggestCharts:', error);\n",
              "      }\n",
              "      quickchartButtonEl.classList.remove('colab-df-spinner');\n",
              "      quickchartButtonEl.classList.add('colab-df-quickchart-complete');\n",
              "    }\n",
              "    (() => {\n",
              "      let quickchartButtonEl =\n",
              "        document.querySelector('#df-0b04ffff-467d-4909-a0c9-07441ad77a25 button');\n",
              "      quickchartButtonEl.style.display =\n",
              "        google.colab.kernel.accessAllowed ? 'block' : 'none';\n",
              "    })();\n",
              "  </script>\n",
              "</div>\n",
              "\n",
              "    </div>\n",
              "  </div>\n"
            ],
            "application/vnd.google.colaboratory.intrinsic+json": {
              "type": "dataframe",
              "variable_name": "data",
              "summary": "{\n  \"name\": \"data\",\n  \"rows\": 100000,\n  \"fields\": [\n    {\n      \"column\": \"id\",\n      \"properties\": {\n        \"dtype\": \"string\",\n        \"num_unique_values\": 100000,\n        \"samples\": [\n          \"9f324bc1285e0ba8\",\n          \"525cd4ea7a7dd0ef\",\n          \"8eb3b3df3f9f847c\"\n        ],\n        \"semantic_type\": \"\",\n        \"description\": \"\"\n      }\n    },\n    {\n      \"column\": \"comment_text\",\n      \"properties\": {\n        \"dtype\": \"string\",\n        \"num_unique_values\": 100000,\n        \"samples\": [\n          \"They fixed it \\n\\nWhat the Chiz!!! Man. Dude they fixed it get your facts right. Besides just because wikipedia did not have it does not give you a good reason for you to swear and complain.\",\n          \"note \\n\\nJust wanted to add you can find high quality anime at low prices Saturdays on Adult Swim. Carry on\",\n          \"Hey Alan, I pruned away a bunch of broken links, and gave a once over on the working ones - I'm torn on the hapas.com and realhapas.com: although Zora speaks of a widespread POV that hapa only refers to kanaka maoli mixtures, for all my life in Hawaii I never encountered it - realhapas.com was created by someone who had a bad experience/flame war on hapas.com, I'm pretty sure it's tin-foil hat.  Anyway, let me know what you think of the edits, thanks for bringing up the linkspam problem for everyone to address.\"\n        ],\n        \"semantic_type\": \"\",\n        \"description\": \"\"\n      }\n    },\n    {\n      \"column\": \"toxic\",\n      \"properties\": {\n        \"dtype\": \"number\",\n        \"std\": 0,\n        \"min\": 0,\n        \"max\": 1,\n        \"num_unique_values\": 2,\n        \"samples\": [\n          0,\n          1\n        ],\n        \"semantic_type\": \"\",\n        \"description\": \"\"\n      }\n    },\n    {\n      \"column\": \"severe_toxic\",\n      \"properties\": {\n        \"dtype\": \"number\",\n        \"std\": 0,\n        \"min\": 0,\n        \"max\": 1,\n        \"num_unique_values\": 2,\n        \"samples\": [\n          0,\n          1\n        ],\n        \"semantic_type\": \"\",\n        \"description\": \"\"\n      }\n    },\n    {\n      \"column\": \"obscene\",\n      \"properties\": {\n        \"dtype\": \"number\",\n        \"std\": 0,\n        \"min\": 0,\n        \"max\": 1,\n        \"num_unique_values\": 2,\n        \"samples\": [\n          0,\n          1\n        ],\n        \"semantic_type\": \"\",\n        \"description\": \"\"\n      }\n    },\n    {\n      \"column\": \"threat\",\n      \"properties\": {\n        \"dtype\": \"number\",\n        \"std\": 0,\n        \"min\": 0,\n        \"max\": 1,\n        \"num_unique_values\": 2,\n        \"samples\": [\n          1,\n          0\n        ],\n        \"semantic_type\": \"\",\n        \"description\": \"\"\n      }\n    },\n    {\n      \"column\": \"insult\",\n      \"properties\": {\n        \"dtype\": \"number\",\n        \"std\": 0,\n        \"min\": 0,\n        \"max\": 1,\n        \"num_unique_values\": 2,\n        \"samples\": [\n          0,\n          1\n        ],\n        \"semantic_type\": \"\",\n        \"description\": \"\"\n      }\n    },\n    {\n      \"column\": \"identity_hate\",\n      \"properties\": {\n        \"dtype\": \"number\",\n        \"std\": 0,\n        \"min\": 0,\n        \"max\": 1,\n        \"num_unique_values\": 2,\n        \"samples\": [\n          1,\n          0\n        ],\n        \"semantic_type\": \"\",\n        \"description\": \"\"\n      }\n    }\n  ]\n}"
            }
          },
          "metadata": {},
          "execution_count": 64
        }
      ],
      "source": [
        "if error_detected == True:\n",
        "    file_path = \"C:/Users/titou/OneDrive/Documents/ISEN/4 eme année/NLP/Projet/data_classification_commentaires_toxiques/train.csv\"\n",
        "else:\n",
        "    file_path = \"/content/drive/MyDrive/data_classification_commentaires_toxiques/train.csv\"\n",
        "randomnumber = random.randint(0, 1000000)\n",
        "print (randomnumber) #Prend un nombre aléatoire pour la selection des données\n",
        "data = pd.read_csv(file_path).sample(n=100000, random_state=randomnumber) #On prend 100000 données aléatoires\n",
        "data.head()"
      ]
    },
    {
      "cell_type": "markdown",
      "metadata": {
        "id": "YIzpSrAjSsAM"
      },
      "source": [
        "# Préparation des données"
      ]
    },
    {
      "cell_type": "code",
      "execution_count": 67,
      "metadata": {
        "colab": {
          "base_uri": "https://localhost:8080/"
        },
        "id": "1WMk85t8S_zX",
        "outputId": "ec313c17-3088-4137-8b2d-f66ebd4a441e"
      },
      "outputs": [
        {
          "output_type": "stream",
          "name": "stderr",
          "text": [
            "[nltk_data] Downloading package stopwords to /root/nltk_data...\n",
            "[nltk_data]   Package stopwords is already up-to-date!\n",
            "[nltk_data] Downloading package punkt_tab to /root/nltk_data...\n",
            "[nltk_data]   Package punkt_tab is already up-to-date!\n"
          ]
        },
        {
          "output_type": "stream",
          "name": "stdout",
          "text": [
            "Longueur médiane des commentaires : 34\n",
            "[[   33   118  1865     6    89   166    35  1041     7    38   472    80\n",
            "    121     4    33    42     1   505   121     6   418    20  1292   565\n",
            "    823     2    35     9    48     3    28   122    82 12788]\n",
            " [  506   259   307  1538     4     9     1  2282     3 16540    24     5\n",
            "   2695    42     3    13     8 37802    31  1360   271   354  3227    15\n",
            "   2158   549    46    14  4001     2   540    39   154   277]\n",
            " [   65     1   394   223    15   503   142     3   289  1148    15  1121\n",
            "   1148    15   661   209  1148    15   708     3   474    39    37     8\n",
            "     14    45    33    14   148   209     2 69668    93    41]\n",
            " [ 2152  2850  1698     7   193   107     7   278    15     1  2152    41\n",
            "     27     2   729    29    77   307    21 15739   125 27995     0     0\n",
            "      0     0     0     0     0     0     0     0     0     0]\n",
            " [69669   320   373     0     0     0     0     0     0     0     0     0\n",
            "      0     0     0     0     0     0     0     0     0     0     0     0\n",
            "      0     0     0     0     0     0     0     0     0     0]]\n",
            "Exemple de texte AVANT nettoyage :\n",
            "The only thing you sons of biches can do. FUCK YOU.FUCK YOU.\n",
            "\n",
            "Now block me properly. I can sign up again and do all the stuff again.\n",
            "\n",
            "You call your self admins. Prove to me that one of my edits were Disruptions.\n",
            "\n",
            "Exemple de texte APRÈS nettoyage :\n",
            "the only thing you sons of biches can do fuck youfuck you now block me properly i can sign up again and do all the stuff again you call your self admins prove to me that one of my edits were disruptions\n"
          ]
        }
      ],
      "source": [
        "# Télécharger les stopwords (si ce n'est pas déjà fait)\n",
        "nltk.download('stopwords')\n",
        "nltk.download('punkt_tab')\n",
        "\n",
        "# Fonction améliorée pour nettoyer les commentaires\n",
        "def clean_text(text):\n",
        "    text = text.lower()  # Convertir en minuscules\n",
        "    text = re.sub(r'http\\S+|www.\\S+', '', text)  # Enlever les URLs\n",
        "    text = re.sub(r'@\\w+', '', text)  # Supprimer les mentions (@user)\n",
        "    text = re.sub(r'[^a-z\\s]', '', text)  # Supprimer tout sauf les lettres et espaces\n",
        "    text = re.sub(r'\\s+', ' ', text).strip()  # Supprimer espaces inutiles\n",
        "    return text\n",
        "\n",
        "# Appliquer le nettoyage sur la colonne 'comment_text'\n",
        "data['cleaned_comment_text'] = data['comment_text'].apply(clean_text)\n",
        "\n",
        "# Tokenize the 'cleaned_comment_text' column\n",
        "# This creates the 'tokenized_comment_text' column\n",
        "from nltk.tokenize import word_tokenize\n",
        "data['tokenized_comment_text'] = data['cleaned_comment_text'].apply(word_tokenize)\n",
        "\n",
        "# Supprimer les stopwords\n",
        "stop_words = set(stopwords.words('english'))\n",
        "data['tokenized_comment_text'] = data['tokenized_comment_text'].apply(lambda x: [word for word in x if word not in stop_words])\n",
        "\n",
        "# Convertir le texte en séquences numériques\n",
        "tokenizer = Tokenizer()\n",
        "tokenizer.fit_on_texts(data['cleaned_comment_text'])\n",
        "sequences = tokenizer.texts_to_sequences(data['cleaned_comment_text'])\n",
        "\n",
        "# Calculer la longueur maximale de commentaire pour le padding\n",
        "max_length = int(data['cleaned_comment_text'].apply(lambda x: len(x.split())).median())\n",
        "print(f\"Longueur médiane des commentaires : {max_length}\")\n",
        "\n",
        "# Appliquer le padding sur les séquences pour qu'elles aient toutes la même longueur\n",
        "padded_sequences = pad_sequences(sequences, maxlen=max_length, padding='post')\n",
        "\n",
        "# Afficher les 5 premières séquences pour voir le résultat\n",
        "print(padded_sequences[:5])\n",
        "\n",
        "print(\"Exemple de texte AVANT nettoyage :\")\n",
        "print(data['comment_text'].iloc[0])\n",
        "\n",
        "print(\"\\nExemple de texte APRÈS nettoyage :\")\n",
        "print(data['cleaned_comment_text'].iloc[0])\n"
      ]
    },
    {
      "cell_type": "markdown",
      "metadata": {
        "id": "-kUWzBzISpsK"
      },
      "source": [
        "# Etude du jeu de données"
      ]
    },
    {
      "cell_type": "code",
      "source": [
        "# Affichage des informations de base sur le dataset\n",
        "print(\"Informations de base sur le dataset :\")\n",
        "print(data.info())\n",
        "\n",
        "# Vérification des valeurs manquantes\n",
        "print(\"\\nVérification des valeurs manquantes :\")\n",
        "print(data.isnull().sum())\n",
        "\n",
        "# Supprimer les lignes où le commentaire est devenu vide après nettoyage\n",
        "data = data[data['cleaned_comment_text'].str.strip() != '']\n",
        "print(f\"\\nDonnées après suppression des commentaires vides : {data.shape}\\n\")\n",
        "\n",
        "\n",
        "# Distribution des types de commentaires\n",
        "target_columns = ['toxic', 'severe_toxic', 'obscene', 'threat', 'insult', 'identity_hate']\n",
        "\n",
        "# Liste des couleurs pour chaque type de commentaire\n",
        "colors = ['#00FF00', '#800080', '#FF0000', '#32CD32', '#000000', '#B22222']\n",
        "\n",
        "# Création d'un graphique pour la distribution des types de commentaires avec des couleurs différentes\n",
        "plt.figure(figsize=(10, 6))\n",
        "data[target_columns].sum().sort_values(ascending=False).plot(kind='bar', color=colors)\n",
        "plt.title('Distribution des Types de Commentaires')\n",
        "plt.xlabel('Type de Commentaire')\n",
        "plt.ylabel('Nombre de Commentaires')\n",
        "plt.xticks(rotation=45)\n",
        "plt.tight_layout()\n",
        "plt.show()\n",
        "\n",
        "# Affichage de la distribution des longueurs de commentaires\n",
        "data['comment_length'] = data['comment_text'].apply(len)\n",
        "data['comment_length'].plot(kind='hist', bins=50, figsize=(10, 6), title='Distribution des Longueurs de Commentaires')\n",
        "plt.show()"
      ],
      "metadata": {
        "colab": {
          "base_uri": "https://localhost:8080/",
          "height": 1000
        },
        "id": "ej2OTDS34jCx",
        "outputId": "5e170fc8-fa31-4167-85be-25c00d372dec"
      },
      "execution_count": 68,
      "outputs": [
        {
          "output_type": "stream",
          "name": "stdout",
          "text": [
            "Informations de base sur le dataset :\n",
            "<class 'pandas.core.frame.DataFrame'>\n",
            "Index: 100000 entries, 120631 to 106372\n",
            "Data columns (total 10 columns):\n",
            " #   Column                  Non-Null Count   Dtype \n",
            "---  ------                  --------------   ----- \n",
            " 0   id                      100000 non-null  object\n",
            " 1   comment_text            100000 non-null  object\n",
            " 2   toxic                   100000 non-null  int64 \n",
            " 3   severe_toxic            100000 non-null  int64 \n",
            " 4   obscene                 100000 non-null  int64 \n",
            " 5   threat                  100000 non-null  int64 \n",
            " 6   insult                  100000 non-null  int64 \n",
            " 7   identity_hate           100000 non-null  int64 \n",
            " 8   cleaned_comment_text    100000 non-null  object\n",
            " 9   tokenized_comment_text  100000 non-null  object\n",
            "dtypes: int64(6), object(4)\n",
            "memory usage: 8.4+ MB\n",
            "None\n",
            "\n",
            "Vérification des valeurs manquantes :\n",
            "id                        0\n",
            "comment_text              0\n",
            "toxic                     0\n",
            "severe_toxic              0\n",
            "obscene                   0\n",
            "threat                    0\n",
            "insult                    0\n",
            "identity_hate             0\n",
            "cleaned_comment_text      0\n",
            "tokenized_comment_text    0\n",
            "dtype: int64\n",
            "\n",
            "Données après suppression des commentaires vides : (99983, 10)\n",
            "\n"
          ]
        },
        {
          "output_type": "display_data",
          "data": {
            "text/plain": [
              "<Figure size 1000x600 with 1 Axes>"
            ],
            "image/png": "[encoded data removed]"
          },
          "metadata": {}
        },
        {
          "output_type": "display_data",
          "data": {
            "text/plain": [
              "<Figure size 1000x600 with 1 Axes>"
            ],
            "image/png": "[encoded data removed]"
          },
          "metadata": {}
        }
      ]
    },
    {
      "cell_type": "markdown",
      "metadata": {
        "id": "LxNIQgESTCmE"
      },
      "source": [
        "# Entraînement du modèle baseline"
      ]
    },
    {
      "cell_type": "markdown",
      "metadata": {
        "id": "iauf-uctGF-n"
      },
      "source": [
        "##### A utilisé beaucoup trop de ram, on va tester autre choses"
      ]
    },
    {
      "cell_type": "code",
      "execution_count": null,
      "metadata": {
        "colab": {
          "base_uri": "https://localhost:8080/",
          "height": 140
        },
        "id": "YgkPpzIzSQUi",
        "outputId": "1efc998d-5369-4e49-95c7-498da41984ab"
      },
      "outputs": [
        {
          "data": {
            "text/plain": [
              "'# Split the data into training and testing sets\\nX_train, X_test, y_train, y_test = train_test_split(padded_sequences, data[target_columns], test_size=0.2, random_state=42)\\n\\n# Initialize the RandomForestClassifier\\nrf_classifier = RandomForestClassifier(n_estimators=100, random_state=42)\\n\\n# Train the model\\nrf_classifier.fit(X_train, y_train)\\n\\n# Make predictions on the test set\\ny_pred = rf_classifier.predict(X_test)\\n\\n# Evaluate the model\\nprint(\"Classification Report:\")\\nprint(classification_report(y_test, y_pred, target_names=target_columns))\\n\\nprint(\"Confusion Matrix:\")\\nprint(confusion_matrix(y_test.values.argmax(axis=1), y_pred.argmax(axis=1)))\\n\\nprint(\"Accuracy Score:\")\\nprint(accuracy_score(y_test, y_pred))'"
            ]
          },
          "execution_count": 30,
          "metadata": {},
          "output_type": "execute_result"
        }
      ],
      "source": [
        "\"\"\"# Split the data into training and testing sets\n",
        "X_train, X_test, y_train, y_test = train_test_split(padded_sequences, data[target_columns], test_size=0.2, random_state=42)\n",
        "\n",
        "# Initialize the RandomForestClassifier\n",
        "rf_classifier = RandomForestClassifier(n_estimators=100, random_state=42)\n",
        "\n",
        "# Train the model\n",
        "rf_classifier.fit(X_train, y_train)\n",
        "\n",
        "# Make predictions on the test set\n",
        "y_pred = rf_classifier.predict(X_test)\n",
        "\n",
        "# Evaluate the model\n",
        "print(\"Classification Report:\")\n",
        "print(classification_report(y_test, y_pred, target_names=target_columns))\n",
        "\n",
        "print(\"Confusion Matrix:\")\n",
        "print(confusion_matrix(y_test.values.argmax(axis=1), y_pred.argmax(axis=1)))\n",
        "\n",
        "print(\"Accuracy Score:\")\n",
        "print(accuracy_score(y_test, y_pred))\"\"\""
      ]
    },
    {
      "cell_type": "code",
      "execution_count": 69,
      "metadata": {
        "colab": {
          "base_uri": "https://localhost:8080/"
        },
        "id": "tiGsFzo-GSi3",
        "outputId": "352e2a4c-a472-4fe2-f461-63200a3a1546"
      },
      "outputs": [
        {
          "output_type": "stream",
          "name": "stdout",
          "text": [
            "✅ Chunk 0 traité en 6.29 sec - 9997 commentaires\n",
            "✅ Taille des séquences après padding: 9997\n",
            "✅ Chunk 1 traité en 4.49 sec - 9998 commentaires\n",
            "✅ Taille des séquences après padding: 9998\n",
            "✅ Chunk 2 traité en 4.78 sec - 10000 commentaires\n",
            "✅ Taille des séquences après padding: 10000\n",
            "✅ Chunk 3 traité en 5.81 sec - 10000 commentaires\n",
            "✅ Taille des séquences après padding: 10000\n",
            "✅ Chunk 4 traité en 5.00 sec - 9999 commentaires\n",
            "✅ Taille des séquences après padding: 9999\n",
            "✅✅ Traitement terminé ! Nombre total de séquences: 49994\n",
            "📊 Taille de padded_sequences: 49994\n",
            "📊 Taille de y: 49994\n",
            "🔹 Exemple final de séquences après traitement: [[ 11295   1228     82    320     52   2078  11204     51   6157     15\n",
            "      61   2457    143      7   2792     32    112   1129  14963   2714\n",
            "       4     45     54    233      1    425     30      1     41     27\n",
            "     139     69   3331     89]\n",
            " [153478     53   2428     13   1378   3515     69   4555   2577     21\n",
            "      93     41    869    177      0      0      0      0      0      0\n",
            "       0      0      0      0      0      0      0      0      0      0\n",
            "       0      0      0      0]\n",
            " [   307     46     51      9     13    591      8   2132    438    475\n",
            "     100      4    579      2     35    315    122    343      3     28\n",
            "      41     27     53    199      2    445     59     34      1   2377\n",
            "      92      1    677    481]\n",
            " [   251     35     71     40    511      2     16      5   5946     15\n",
            "      78     12    382     36      7    592     40     86     16      5\n",
            "    1954    365      5   2767   2838     80     46    398     10      1\n",
            "     475    598    907 131602]\n",
            " [     6   1699     18     28   3236     56    949      6    549     39\n",
            "      27    173     15      0      0      0      0      0      0      0\n",
            "       0      0      0      0      0      0      0      0      0      0\n",
            "       0      0      0      0]]\n"
          ]
        }
      ],
      "source": [
        "# Fonction pour traiter chaque chunk\n",
        "def process_chunk(chunk, chunk_index):\n",
        "    start_time = time()\n",
        "    tweet_tokenizer = TweetTokenizer()  # Définir le tweet_tokenizer\n",
        "\n",
        "    # Nettoyage du texte\n",
        "    chunk['cleaned_comment_text'] = chunk['comment_text'].apply(clean_text)\n",
        "\n",
        "    # Supprimer les commentaires vides après nettoyage (en maintenant les indices)\n",
        "    chunk = chunk[chunk['cleaned_comment_text'].str.strip() != \"\"].reset_index(drop=True)\n",
        "\n",
        "    # Tokenisation\n",
        "    chunk['tokenized_comment_text'] = chunk['cleaned_comment_text'].apply(tweet_tokenizer.tokenize)\n",
        "\n",
        "    # Suppression des stopwords\n",
        "    chunk['tokenized_comment_text'] = chunk['tokenized_comment_text'].apply(lambda x: [word for word in x if word not in stop_words])\n",
        "\n",
        "    # Conversion en séquences de tokens\n",
        "    sequences = tokenizer.texts_to_sequences(list(chunk['cleaned_comment_text']))  # Utilisation de `list()` pour accélérer\n",
        "\n",
        "    # Supprimer les lignes avec NaN dans les labels et ré-aligner les indices\n",
        "    chunk = chunk.dropna(subset=target_columns).reset_index(drop=True)\n",
        "\n",
        "    # Padding\n",
        "    padded_sequences = pad_sequences(sequences, maxlen=max_length, padding='post')\n",
        "\n",
        "    # Vérification du nombre de lignes après traitement et nettoyage\n",
        "    print(f\"✅ Chunk {chunk_index} traité en {time() - start_time:.2f} sec - {len(chunk)} commentaires\")\n",
        "    print(f\"✅ Taille des séquences après padding: {padded_sequences.shape[0]}\")\n",
        "\n",
        "    return padded_sequences, chunk[target_columns].values\n",
        "\n",
        "# Paramètres de traitement en chunks\n",
        "chunk_size = 10000\n",
        "padded_sequences_list = []\n",
        "y_list = []\n",
        "\n",
        "# Lecture et traitement des données en chunks\n",
        "for chunk_index, chunk in enumerate(pd.read_csv(file_path, chunksize=chunk_size, nrows=chunk_size * 5)):\n",
        "    padded_sequences_chunk, y_chunk = process_chunk(chunk, chunk_index)\n",
        "    padded_sequences_list.append(padded_sequences_chunk)\n",
        "    y_list.append(y_chunk)\n",
        "\n",
        "# Concaténation des résultats finaux\n",
        "padded_sequences = np.concatenate(padded_sequences_list, axis=0)\n",
        "y = np.concatenate(y_list, axis=0)\n",
        "\n",
        "# Vérifier la taille des données\n",
        "print(\"✅✅ Traitement terminé ! Nombre total de séquences:\", padded_sequences.shape[0])\n",
        "print(\"📊 Taille de padded_sequences:\", padded_sequences.shape[0])\n",
        "print(\"📊 Taille de y:\", y.shape[0])\n",
        "\n",
        "# Vérification de la correspondance des tailles\n",
        "assert padded_sequences.shape[0] == y.shape[0], \"Les tailles de X et y ne correspondent pas !\"\n",
        "\n",
        "print(\"🔹 Exemple final de séquences après traitement:\", padded_sequences[:5])\n",
        "# Sauvegarder le tokenizer dans un fichier\n",
        "with open('/content/drive/My Drive/tokenizer.pickle', 'wb') as handle:\n",
        "    pickle.dump(tokenizer, handle, protocol=pickle.HIGHEST_PROTOCOL)"
      ]
    },
    {
      "cell_type": "markdown",
      "metadata": {
        "id": "2a8IWbTFTHXh"
      },
      "source": [
        "# Itération de la modélisation"
      ]
    },
    {
      "cell_type": "code",
      "source": [
        "# Ajuster le Tokenizer sur ton ensemble de texte\n",
        "tokenizer.fit_on_texts(data['cleaned_comment_text'])\n",
        "\n",
        "# Obtenir la taille du vocabulaire\n",
        "vocab_size = len(tokenizer.word_index) + 1  # Ajouter 1 car l'index commence à 1\n",
        "\n",
        "# Définition du modèle CNN\n",
        "model = Sequential([\n",
        "    Embedding(input_dim=vocab_size, output_dim=50),\n",
        "    Conv1D(filters=64, kernel_size=3, activation='relu'),\n",
        "    BatchNormalization(),\n",
        "    MaxPooling1D(pool_size=2),\n",
        "    Dropout(0.3),\n",
        "    Flatten(),\n",
        "    Dense(64, activation='relu'),\n",
        "    Dropout(0.3),\n",
        "    Dense(len(target_columns), activation='sigmoid')  # Multi-label classification\n",
        "])\n",
        "\n",
        "model.compile(optimizer='adam', loss='binary_crossentropy', metrics=['accuracy'])\n",
        "\n",
        "# Découper les données en ensembles d'entraînement et de test\n",
        "X_train, X_test, y_train, y_test = train_test_split(padded_sequences, y, test_size=0.2, random_state=42)\n",
        "\n",
        "# Entraîner le modèle\n",
        "model.fit(X_train, y_train, epochs=10, batch_size=32)\n",
        "\n",
        "# Faire des prédictions sur l'ensemble de test\n",
        "y_pred_best = model.predict(X_test)\n",
        "\n",
        "# Convertir les prédictions en valeurs binaires en utilisant un seuil de 0.5\n",
        "y_pred_best_binary = (y_pred_best > 0.5).astype(int)\n",
        "\n",
        "# Afficher le rapport de classification\n",
        "print(\"Classification Report with CNN:\")\n",
        "print(classification_report(y_test, y_pred_best_binary, target_names=target_columns))\n",
        "\n",
        "# Calculer l'accuracy pour chaque classe\n",
        "accuracies_per_class = []\n",
        "\n",
        "for i in range(y_test.shape[1]):  # Pour chaque colonne (chaque classe)\n",
        "    acc = accuracy_score(y_test[:, i], y_pred_best_binary[:, i])\n",
        "    accuracies_per_class.append(acc)\n",
        "\n",
        "# Afficher les accuracies par classe\n",
        "for i, class_name in enumerate(target_columns):\n",
        "    print(f\"Accuracy for {class_name}: {accuracies_per_class[i]:.4f}\")\n",
        "\n",
        "# Matrice de confusion\n",
        "fig, axes = plt.subplots(2, 3, figsize=(15, 10))  # 6 classes = 2 lignes, 3 colonnes\n",
        "#axes = axes.ravel() # Remove this line to keep axes as a 2D array\n",
        "\n",
        "# Boucle pour chaque colonne (chaque type de commentaire)\n",
        "for i, col in enumerate(target_columns):\n",
        "    # Calcul de la matrice de confusion pour la colonne 'col'\n",
        "    cm = confusion_matrix(y_test[:, i], y_pred_best_binary[:, i])\n",
        "    # Tracer la matrice de confusion\n",
        "    sns.heatmap(cm, annot=True, fmt='d', cmap='Blues', ax=axes.flatten()[i])\n",
        "    axes.flatten()[i].set_title(f'Confusion Matrix - {col}')\n",
        "    axes.flatten()[i].set_xlabel('Predicted Labels')\n",
        "    axes.flatten()[i].set_ylabel('True Labels')\n",
        "\n",
        "plt.tight_layout()\n",
        "plt.show()\n",
        "\n",
        "# Affichage du score de précision\n",
        "print(\"Accuracy Score with CNN:\")\n",
        "print(accuracy_score(y_test, y_pred_best_binary))\n",
        "\n",
        "# Enregistrement du modèle entraîné dans un fichier .h5\n",
        "model.save('modele_entraine.h5')\n",
        "\n",
        "# Vérification de l'enregistrement\n",
        "print(\"Le modèle a été sauvegardé avec succès sous le nom 'modele_entraine.h5'.\")"
      ],
      "metadata": {
        "colab": {
          "base_uri": "https://localhost:8080/",
          "height": 1000
        },
        "id": "_aiLXhvZoxPx",
        "outputId": "52b41e7c-d7c0-464e-9b0e-32a9f556fc30"
      },
      "execution_count": 70,
      "outputs": [
        {
          "output_type": "stream",
          "name": "stdout",
          "text": [
            "Epoch 1/10\n",
            "\u001b[1m1250/1250\u001b[0m \u001b[32m━━━━━━━━━━━━━━━━━━━━\u001b[0m\u001b[37m\u001b[0m \u001b[1m112s\u001b[0m 86ms/step - accuracy: 0.5877 - loss: 0.1397\n",
            "Epoch 2/10\n",
            "\u001b[1m1250/1250\u001b[0m \u001b[32m━━━━━━━━━━━━━━━━━━━━\u001b[0m\u001b[37m\u001b[0m \u001b[1m95s\u001b[0m 76ms/step - accuracy: 0.9471 - loss: 0.0533\n",
            "Epoch 3/10\n",
            "\u001b[1m1250/1250\u001b[0m \u001b[32m━━━━━━━━━━━━━━━━━━━━\u001b[0m\u001b[37m\u001b[0m \u001b[1m96s\u001b[0m 77ms/step - accuracy: 0.9206 - loss: 0.0387\n",
            "Epoch 4/10\n",
            "\u001b[1m1250/1250\u001b[0m \u001b[32m━━━━━━━━━━━━━━━━━━━━\u001b[0m\u001b[37m\u001b[0m \u001b[1m105s\u001b[0m 84ms/step - accuracy: 0.8820 - loss: 0.0322\n",
            "Epoch 5/10\n",
            "\u001b[1m1250/1250\u001b[0m \u001b[32m━━━━━━━━━━━━━━━━━━━━\u001b[0m\u001b[37m\u001b[0m \u001b[1m132s\u001b[0m 77ms/step - accuracy: 0.6730 - loss: 0.0269\n",
            "Epoch 6/10\n",
            "\u001b[1m1250/1250\u001b[0m \u001b[32m━━━━━━━━━━━━━━━━━━━━\u001b[0m\u001b[37m\u001b[0m \u001b[1m93s\u001b[0m 74ms/step - accuracy: 0.6223 - loss: 0.0234\n",
            "Epoch 7/10\n",
            "\u001b[1m1250/1250\u001b[0m \u001b[32m━━━━━━━━━━━━━━━━━━━━\u001b[0m\u001b[37m\u001b[0m \u001b[1m144s\u001b[0m 76ms/step - accuracy: 0.6028 - loss: 0.0196\n",
            "Epoch 8/10\n",
            "\u001b[1m1250/1250\u001b[0m \u001b[32m━━━━━━━━━━━━━━━━━━━━\u001b[0m\u001b[37m\u001b[0m \u001b[1m141s\u001b[0m 75ms/step - accuracy: 0.5033 - loss: 0.0179\n",
            "Epoch 9/10\n",
            "\u001b[1m1250/1250\u001b[0m \u001b[32m━━━━━━━━━━━━━━━━━━━━\u001b[0m\u001b[37m\u001b[0m \u001b[1m144s\u001b[0m 77ms/step - accuracy: 0.5115 - loss: 0.0156\n",
            "Epoch 10/10\n",
            "\u001b[1m1250/1250\u001b[0m \u001b[32m━━━━━━━━━━━━━━━━━━━━\u001b[0m\u001b[37m\u001b[0m \u001b[1m138s\u001b[0m 74ms/step - accuracy: 0.5846 - loss: 0.0142\n",
            "\u001b[1m313/313\u001b[0m \u001b[32m━━━━━━━━━━━━━━━━━━━━\u001b[0m\u001b[37m\u001b[0m \u001b[1m1s\u001b[0m 2ms/step\n",
            "Classification Report with CNN:\n",
            "               precision    recall  f1-score   support\n",
            "\n",
            "        toxic       0.71      0.63      0.67       966\n",
            " severe_toxic       0.48      0.34      0.40       104\n",
            "      obscene       0.75      0.67      0.71       529\n",
            "       threat       0.29      0.14      0.19        36\n",
            "       insult       0.62      0.59      0.61       476\n",
            "identity_hate       0.38      0.10      0.16        88\n",
            "\n",
            "    micro avg       0.68      0.59      0.63      2199\n",
            "    macro avg       0.54      0.41      0.45      2199\n",
            " weighted avg       0.67      0.59      0.62      2199\n",
            "  samples avg       0.06      0.05      0.05      2199\n",
            "\n",
            "Accuracy for toxic: 0.9390\n",
            "Accuracy for severe_toxic: 0.9893\n",
            "Accuracy for obscene: 0.9708\n",
            "Accuracy for threat: 0.9957\n",
            "Accuracy for insult: 0.9634\n",
            "Accuracy for identity_hate: 0.9906\n"
          ]
        },
        {
          "output_type": "stream",
          "name": "stderr",
          "text": [
            "/usr/local/lib/python3.11/dist-packages/sklearn/metrics/_classification.py:1565: UndefinedMetricWarning: Precision is ill-defined and being set to 0.0 in samples with no predicted labels. Use `zero_division` parameter to control this behavior.\n",
            "  _warn_prf(average, modifier, f\"{metric.capitalize()} is\", len(result))\n",
            "/usr/local/lib/python3.11/dist-packages/sklearn/metrics/_classification.py:1565: UndefinedMetricWarning: Recall is ill-defined and being set to 0.0 in samples with no true labels. Use `zero_division` parameter to control this behavior.\n",
            "  _warn_prf(average, modifier, f\"{metric.capitalize()} is\", len(result))\n",
            "/usr/local/lib/python3.11/dist-packages/sklearn/metrics/_classification.py:1565: UndefinedMetricWarning: F-score is ill-defined and being set to 0.0 in samples with no true nor predicted labels. Use `zero_division` parameter to control this behavior.\n",
            "  _warn_prf(average, modifier, f\"{metric.capitalize()} is\", len(result))\n"
          ]
        },
        {
          "output_type": "display_data",
          "data": {
            "text/plain": [
              "<Figure size 1500x1000 with 12 Axes>"
            ],
            "image/png": "[encoded data removed]"
          },
          "metadata": {}
        },
        {
          "output_type": "stream",
          "name": "stderr",
          "text": [
            "WARNING:absl:You are saving your model as an HDF5 file via `model.save()` or `keras.saving.save_model(model)`. This file format is considered legacy. We recommend using instead the native Keras format, e.g. `model.save('my_model.keras')` or `keras.saving.save_model(model, 'my_model.keras')`. \n"
          ]
        },
        {
          "output_type": "stream",
          "name": "stdout",
          "text": [
            "Accuracy Score with CNN:\n",
            "0.8956895689568957\n",
            "Le modèle a été sauvegardé avec succès sous le nom 'modele_entraine.h5'.\n"
          ]
        }
      ]
    },
    {
      "cell_type": "code",
      "source": [
        "from google.colab import drive\n",
        "drive.mount('/content/drive')\n",
        "\n",
        "# Enregistrer le modèle sur Google Drive\n",
        "model.save('/content/drive/My Drive/mon_modele.h5')\n",
        "\n",
        "# Vérification\n",
        "print(\"Le modèle a été sauvegardé sur Google Drive sous le nom 'mon_modele.h5'.\")"
      ],
      "metadata": {
        "colab": {
          "base_uri": "https://localhost:8080/"
        },
        "id": "gcum52AsBZV3",
        "outputId": "21ce399e-a8f1-4403-fba0-8483096511be"
      },
      "execution_count": 71,
      "outputs": [
        {
          "output_type": "stream",
          "name": "stderr",
          "text": [
            "WARNING:absl:You are saving your model as an HDF5 file via `model.save()` or `keras.saving.save_model(model)`. This file format is considered legacy. We recommend using instead the native Keras format, e.g. `model.save('my_model.keras')` or `keras.saving.save_model(model, 'my_model.keras')`. \n"
          ]
        },
        {
          "output_type": "stream",
          "name": "stdout",
          "text": [
            "Drive already mounted at /content/drive; to attempt to forcibly remount, call drive.mount(\"/content/drive\", force_remount=True).\n",
            "Le modèle a été sauvegardé sur Google Drive sous le nom 'mon_modele.h5'.\n"
          ]
        }
      ]
    },
    {
      "cell_type": "code",
      "source": [
        "# 1. Charger le modèle préalablement entraîné\n",
        "model = load_model('/content/drive/My Drive/mon_modele.h5')\n",
        "\n",
        "# Recompiler le modèle pour s'assurer qu'il est prêt à être utilisé\n",
        "model.compile(optimizer='adam', loss='binary_crossentropy', metrics=['accuracy'])\n",
        "\n",
        "# 2. Charger le tokenizer sauvegardé lors de l'entraînement\n",
        "with open('/content/drive/My Drive/tokenizer.pickle', 'rb') as handle:\n",
        "    tokenizer = pickle.load(handle)\n",
        "model.summary()\n",
        "\n",
        "# Définir la longueur maximale des séquences (doit correspondre à celle utilisée à l'entraînement)\n",
        "MAXLEN = 35\n",
        "\n",
        "# Charger les noms des catégories (les étiquettes de classification)\n",
        "target_columns = [\"toxic\", \"severe_toxic\", \"obscene\", \"threat\", \"insult\", \"identity_hate\"]\n",
        "\n",
        "# Exemple de nettoyage du texte (doit être cohérent avec ce qui a été fait avant l'entraînement)\n",
        "def clean_text(text):\n",
        "    text = text.lower()  # Convertir en minuscules\n",
        "    text = re.sub(r'http\\S+', '', text)  # Supprimer les liens URL\n",
        "    text = re.sub(r'@\\w+', '', text)  # Supprimer les mentions\n",
        "    text = re.sub(r'#[A-Za-z0-9]+', '', text)  # Supprimer les hashtags\n",
        "    text = re.sub(r'[^a-zA-Z\\s]', '', text)  # Supprimer la ponctuation et les chiffres\n",
        "    text = text.strip()  # Supprimer les espaces superflus\n",
        "    return text\n",
        "\n",
        "# 3. Fonction de classification\n",
        "def classify_text(input_text):\n",
        "    # Nettoyer le texte\n",
        "    cleaned_text = clean_text(input_text)\n",
        "\n",
        "    # Tokeniser le texte\n",
        "    text_sequence = tokenizer.texts_to_sequences([cleaned_text])\n",
        "\n",
        "    # Appliquer le padding\n",
        "    padded_text = pad_sequences(text_sequence, maxlen=MAXLEN, padding='post')\n",
        "    padded_text = np.array(padded_text, dtype=np.int32)\n",
        "\n",
        "    # Vérification de la forme de l'entrée\n",
        "    print(\"Shape de l'entrée après padding:\", padded_text.shape)\n",
        "\n",
        "    # Prédiction avec le modèle\n",
        "    prediction = model.predict(padded_text)\n",
        "\n",
        "    # Convertir la prédiction en binaire (0 ou 1) avec un seuil de 0.5\n",
        "    prediction_binary = (prediction > 0.5).astype(int)\n",
        "\n",
        "    # Associer les prédictions aux labels des classes\n",
        "    result = {target_columns[i]: 'Yes' if prediction_binary[0][i] == 1 else 'No' for i in range(len(target_columns))}\n",
        "\n",
        "    return result\n",
        "\n",
        "# 4. Exemple d'utilisation de la fonction\n",
        "input_text = \"The only thing you sons of biches can do. FUCK YOU.FUCK YOU. Now block me properly. I can sign up again and do all the stuff again. You call your self admins. Prove to me that one of my edits were Disruptions.\"\n",
        "\n",
        "# Appeler la fonction de classification\n",
        "result = classify_text(input_text)\n",
        "\n",
        "# Afficher le résultat\n",
        "print(\"Résultat de la classification :\")\n",
        "for label, prediction in result.items():\n",
        "    print(f\"{label}: {prediction}\")\n"
      ],
      "metadata": {
        "colab": {
          "base_uri": "https://localhost:8080/",
          "height": 607
        },
        "id": "XF29-VZlBorS",
        "outputId": "07356f18-b25a-43d6-b06c-4d03bdbde826"
      },
      "execution_count": 72,
      "outputs": [
        {
          "output_type": "stream",
          "name": "stderr",
          "text": [
            "WARNING:absl:Compiled the loaded model, but the compiled metrics have yet to be built. `model.compile_metrics` will be empty until you train or evaluate the model.\n"
          ]
        },
        {
          "output_type": "display_data",
          "data": {
            "text/plain": [
              "\u001b[1mModel: \"sequential_1\"\u001b[0m\n"
            ],
            "text/html": [
              "<pre style=\"white-space:pre;overflow-x:auto;line-height:normal;font-family:Menlo,'DejaVu Sans Mono',consolas,'Courier New',monospace\"><span style=\"font-weight: bold\">Model: \"sequential_1\"</span>\n",
              "</pre>\n"
            ]
          },
          "metadata": {}
        },
        {
          "output_type": "display_data",
          "data": {
            "text/plain": [
              "┏━━━━━━━━━━━━━━━━━━━━━━━━━━━━━━━━━━━━━━┳━━━━━━━━━━━━━━━━━━━━━━━━━━━━━┳━━━━━━━━━━━━━━━━━┓\n",
              "┃\u001b[1m \u001b[0m\u001b[1mLayer (type)                        \u001b[0m\u001b[1m \u001b[0m┃\u001b[1m \u001b[0m\u001b[1mOutput Shape               \u001b[0m\u001b[1m \u001b[0m┃\u001b[1m \u001b[0m\u001b[1m        Param #\u001b[0m\u001b[1m \u001b[0m┃\n",
              "┡━━━━━━━━━━━━━━━━━━━━━━━━━━━━━━━━━━━━━━╇━━━━━━━━━━━━━━━━━━━━━━━━━━━━━╇━━━━━━━━━━━━━━━━━┩\n",
              "│ embedding_1 (\u001b[38;5;33mEmbedding\u001b[0m)              │ (\u001b[38;5;45mNone\u001b[0m, \u001b[38;5;34m34\u001b[0m, \u001b[38;5;34m50\u001b[0m)              │       \u001b[38;5;34m8,108,600\u001b[0m │\n",
              "├──────────────────────────────────────┼─────────────────────────────┼─────────────────┤\n",
              "│ conv1d_1 (\u001b[38;5;33mConv1D\u001b[0m)                    │ (\u001b[38;5;45mNone\u001b[0m, \u001b[38;5;34m32\u001b[0m, \u001b[38;5;34m64\u001b[0m)              │           \u001b[38;5;34m9,664\u001b[0m │\n",
              "├──────────────────────────────────────┼─────────────────────────────┼─────────────────┤\n",
              "│ batch_normalization_1                │ (\u001b[38;5;45mNone\u001b[0m, \u001b[38;5;34m32\u001b[0m, \u001b[38;5;34m64\u001b[0m)              │             \u001b[38;5;34m256\u001b[0m │\n",
              "│ (\u001b[38;5;33mBatchNormalization\u001b[0m)                 │                             │                 │\n",
              "├──────────────────────────────────────┼─────────────────────────────┼─────────────────┤\n",
              "│ max_pooling1d_1 (\u001b[38;5;33mMaxPooling1D\u001b[0m)       │ (\u001b[38;5;45mNone\u001b[0m, \u001b[38;5;34m16\u001b[0m, \u001b[38;5;34m64\u001b[0m)              │               \u001b[38;5;34m0\u001b[0m │\n",
              "├──────────────────────────────────────┼─────────────────────────────┼─────────────────┤\n",
              "│ dropout_2 (\u001b[38;5;33mDropout\u001b[0m)                  │ (\u001b[38;5;45mNone\u001b[0m, \u001b[38;5;34m16\u001b[0m, \u001b[38;5;34m64\u001b[0m)              │               \u001b[38;5;34m0\u001b[0m │\n",
              "├──────────────────────────────────────┼─────────────────────────────┼─────────────────┤\n",
              "│ flatten_1 (\u001b[38;5;33mFlatten\u001b[0m)                  │ (\u001b[38;5;45mNone\u001b[0m, \u001b[38;5;34m1024\u001b[0m)                │               \u001b[38;5;34m0\u001b[0m │\n",
              "├──────────────────────────────────────┼─────────────────────────────┼─────────────────┤\n",
              "│ dense_2 (\u001b[38;5;33mDense\u001b[0m)                      │ (\u001b[38;5;45mNone\u001b[0m, \u001b[38;5;34m64\u001b[0m)                  │          \u001b[38;5;34m65,600\u001b[0m │\n",
              "├──────────────────────────────────────┼─────────────────────────────┼─────────────────┤\n",
              "│ dropout_3 (\u001b[38;5;33mDropout\u001b[0m)                  │ (\u001b[38;5;45mNone\u001b[0m, \u001b[38;5;34m64\u001b[0m)                  │               \u001b[38;5;34m0\u001b[0m │\n",
              "├──────────────────────────────────────┼─────────────────────────────┼─────────────────┤\n",
              "│ dense_3 (\u001b[38;5;33mDense\u001b[0m)                      │ (\u001b[38;5;45mNone\u001b[0m, \u001b[38;5;34m6\u001b[0m)                   │             \u001b[38;5;34m390\u001b[0m │\n",
              "└──────────────────────────────────────┴─────────────────────────────┴─────────────────┘\n"
            ],
            "text/html": [
              "<pre style=\"white-space:pre;overflow-x:auto;line-height:normal;font-family:Menlo,'DejaVu Sans Mono',consolas,'Courier New',monospace\">┏━━━━━━━━━━━━━━━━━━━━━━━━━━━━━━━━━━━━━━┳━━━━━━━━━━━━━━━━━━━━━━━━━━━━━┳━━━━━━━━━━━━━━━━━┓\n",
              "┃<span style=\"font-weight: bold\"> Layer (type)                         </span>┃<span style=\"font-weight: bold\"> Output Shape                </span>┃<span style=\"font-weight: bold\">         Param # </span>┃\n",
              "┡━━━━━━━━━━━━━━━━━━━━━━━━━━━━━━━━━━━━━━╇━━━━━━━━━━━━━━━━━━━━━━━━━━━━━╇━━━━━━━━━━━━━━━━━┩\n",
              "│ embedding_1 (<span style=\"color: #0087ff; text-decoration-color: #0087ff\">Embedding</span>)              │ (<span style=\"color: #00d7ff; text-decoration-color: #00d7ff\">None</span>, <span style=\"color: #00af00; text-decoration-color: #00af00\">34</span>, <span style=\"color: #00af00; text-decoration-color: #00af00\">50</span>)              │       <span style=\"color: #00af00; text-decoration-color: #00af00\">8,108,600</span> │\n",
              "├──────────────────────────────────────┼─────────────────────────────┼─────────────────┤\n",
              "│ conv1d_1 (<span style=\"color: #0087ff; text-decoration-color: #0087ff\">Conv1D</span>)                    │ (<span style=\"color: #00d7ff; text-decoration-color: #00d7ff\">None</span>, <span style=\"color: #00af00; text-decoration-color: #00af00\">32</span>, <span style=\"color: #00af00; text-decoration-color: #00af00\">64</span>)              │           <span style=\"color: #00af00; text-decoration-color: #00af00\">9,664</span> │\n",
              "├──────────────────────────────────────┼─────────────────────────────┼─────────────────┤\n",
              "│ batch_normalization_1                │ (<span style=\"color: #00d7ff; text-decoration-color: #00d7ff\">None</span>, <span style=\"color: #00af00; text-decoration-color: #00af00\">32</span>, <span style=\"color: #00af00; text-decoration-color: #00af00\">64</span>)              │             <span style=\"color: #00af00; text-decoration-color: #00af00\">256</span> │\n",
              "│ (<span style=\"color: #0087ff; text-decoration-color: #0087ff\">BatchNormalization</span>)                 │                             │                 │\n",
              "├──────────────────────────────────────┼─────────────────────────────┼─────────────────┤\n",
              "│ max_pooling1d_1 (<span style=\"color: #0087ff; text-decoration-color: #0087ff\">MaxPooling1D</span>)       │ (<span style=\"color: #00d7ff; text-decoration-color: #00d7ff\">None</span>, <span style=\"color: #00af00; text-decoration-color: #00af00\">16</span>, <span style=\"color: #00af00; text-decoration-color: #00af00\">64</span>)              │               <span style=\"color: #00af00; text-decoration-color: #00af00\">0</span> │\n",
              "├──────────────────────────────────────┼─────────────────────────────┼─────────────────┤\n",
              "│ dropout_2 (<span style=\"color: #0087ff; text-decoration-color: #0087ff\">Dropout</span>)                  │ (<span style=\"color: #00d7ff; text-decoration-color: #00d7ff\">None</span>, <span style=\"color: #00af00; text-decoration-color: #00af00\">16</span>, <span style=\"color: #00af00; text-decoration-color: #00af00\">64</span>)              │               <span style=\"color: #00af00; text-decoration-color: #00af00\">0</span> │\n",
              "├──────────────────────────────────────┼─────────────────────────────┼─────────────────┤\n",
              "│ flatten_1 (<span style=\"color: #0087ff; text-decoration-color: #0087ff\">Flatten</span>)                  │ (<span style=\"color: #00d7ff; text-decoration-color: #00d7ff\">None</span>, <span style=\"color: #00af00; text-decoration-color: #00af00\">1024</span>)                │               <span style=\"color: #00af00; text-decoration-color: #00af00\">0</span> │\n",
              "├──────────────────────────────────────┼─────────────────────────────┼─────────────────┤\n",
              "│ dense_2 (<span style=\"color: #0087ff; text-decoration-color: #0087ff\">Dense</span>)                      │ (<span style=\"color: #00d7ff; text-decoration-color: #00d7ff\">None</span>, <span style=\"color: #00af00; text-decoration-color: #00af00\">64</span>)                  │          <span style=\"color: #00af00; text-decoration-color: #00af00\">65,600</span> │\n",
              "├──────────────────────────────────────┼─────────────────────────────┼─────────────────┤\n",
              "│ dropout_3 (<span style=\"color: #0087ff; text-decoration-color: #0087ff\">Dropout</span>)                  │ (<span style=\"color: #00d7ff; text-decoration-color: #00d7ff\">None</span>, <span style=\"color: #00af00; text-decoration-color: #00af00\">64</span>)                  │               <span style=\"color: #00af00; text-decoration-color: #00af00\">0</span> │\n",
              "├──────────────────────────────────────┼─────────────────────────────┼─────────────────┤\n",
              "│ dense_3 (<span style=\"color: #0087ff; text-decoration-color: #0087ff\">Dense</span>)                      │ (<span style=\"color: #00d7ff; text-decoration-color: #00d7ff\">None</span>, <span style=\"color: #00af00; text-decoration-color: #00af00\">6</span>)                   │             <span style=\"color: #00af00; text-decoration-color: #00af00\">390</span> │\n",
              "└──────────────────────────────────────┴─────────────────────────────┴─────────────────┘\n",
              "</pre>\n"
            ]
          },
          "metadata": {}
        },
        {
          "output_type": "display_data",
          "data": {
            "text/plain": [
              "\u001b[1m Total params: \u001b[0m\u001b[38;5;34m8,184,510\u001b[0m (31.22 MB)\n"
            ],
            "text/html": [
              "<pre style=\"white-space:pre;overflow-x:auto;line-height:normal;font-family:Menlo,'DejaVu Sans Mono',consolas,'Courier New',monospace\"><span style=\"font-weight: bold\"> Total params: </span><span style=\"color: #00af00; text-decoration-color: #00af00\">8,184,510</span> (31.22 MB)\n",
              "</pre>\n"
            ]
          },
          "metadata": {}
        },
        {
          "output_type": "display_data",
          "data": {
            "text/plain": [
              "\u001b[1m Trainable params: \u001b[0m\u001b[38;5;34m8,184,382\u001b[0m (31.22 MB)\n"
            ],
            "text/html": [
              "<pre style=\"white-space:pre;overflow-x:auto;line-height:normal;font-family:Menlo,'DejaVu Sans Mono',consolas,'Courier New',monospace\"><span style=\"font-weight: bold\"> Trainable params: </span><span style=\"color: #00af00; text-decoration-color: #00af00\">8,184,382</span> (31.22 MB)\n",
              "</pre>\n"
            ]
          },
          "metadata": {}
        },
        {
          "output_type": "display_data",
          "data": {
            "text/plain": [
              "\u001b[1m Non-trainable params: \u001b[0m\u001b[38;5;34m128\u001b[0m (512.00 B)\n"
            ],
            "text/html": [
              "<pre style=\"white-space:pre;overflow-x:auto;line-height:normal;font-family:Menlo,'DejaVu Sans Mono',consolas,'Courier New',monospace\"><span style=\"font-weight: bold\"> Non-trainable params: </span><span style=\"color: #00af00; text-decoration-color: #00af00\">128</span> (512.00 B)\n",
              "</pre>\n"
            ]
          },
          "metadata": {}
        },
        {
          "output_type": "stream",
          "name": "stdout",
          "text": [
            "Shape de l'entrée après padding: (1, 35)\n",
            "\u001b[1m1/1\u001b[0m \u001b[32m━━━━━━━━━━━━━━━━━━━━\u001b[0m\u001b[37m\u001b[0m \u001b[1m0s\u001b[0m 165ms/step\n",
            "Résultat de la classification :\n",
            "toxic: Yes\n",
            "severe_toxic: No\n",
            "obscene: Yes\n",
            "threat: No\n",
            "insult: Yes\n",
            "identity_hate: No\n"
          ]
        }
      ]
    }
  ],
  "metadata": {
    "accelerator": "GPU",
    "colab": {
      "gpuType": "T4",
      "provenance": []
    },
    "kernelspec": {
      "display_name": "Python 3",
      "name": "python3"
    },
    "language_info": {
      "codemirror_mode": {
        "name": "ipython",
        "version": 3
      },
      "file_extension": ".py",
      "mimetype": "text/x-python",
      "name": "python",
      "nbconvert_exporter": "python",
      "pygments_lexer": "ipython3",
      "version": "3.12.5"
    }
  },
  "nbformat": 4,
  "nbformat_minor": 0
}